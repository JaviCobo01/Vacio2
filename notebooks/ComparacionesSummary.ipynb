{
 "cells": [
  {
   "cell_type": "markdown",
   "id": "7ad11278-f1aa-49cf-852a-1f81afe0ed3d",
   "metadata": {},
   "source": [
    "# Comparación de métodos"
   ]
  },
  {
   "cell_type": "code",
   "execution_count": 1,
   "id": "97a1fed8-d83d-4821-beed-4b6480cb6c0f",
   "metadata": {
    "execution": {
     "iopub.execute_input": "2024-06-30T15:19:17.554960Z",
     "iopub.status.busy": "2024-06-30T15:19:17.554960Z",
     "iopub.status.idle": "2024-06-30T15:19:18.413769Z",
     "shell.execute_reply": "2024-06-30T15:19:18.413769Z",
     "shell.execute_reply.started": "2024-06-30T15:19:17.554960Z"
    }
   },
   "outputs": [],
   "source": [
    "import pandas as pd\n",
    "import numpy as np\n",
    "import matplotlib.pyplot as plt"
   ]
  },
  {
   "cell_type": "code",
   "execution_count": 2,
   "id": "ff29a643-81cf-4125-b5c2-13ee7e25fbcb",
   "metadata": {
    "execution": {
     "iopub.execute_input": "2024-06-30T15:19:19.204018Z",
     "iopub.status.busy": "2024-06-30T15:19:19.204018Z",
     "iopub.status.idle": "2024-06-30T15:19:19.214664Z",
     "shell.execute_reply": "2024-06-30T15:19:19.213662Z",
     "shell.execute_reply.started": "2024-06-30T15:19:19.204018Z"
    }
   },
   "outputs": [],
   "source": [
    "%store -r ia_sha_df_eval"
   ]
  },
  {
   "cell_type": "code",
   "execution_count": 3,
   "id": "f5b7734f-9edf-49c2-93b3-2a3ebd0ae51e",
   "metadata": {
    "execution": {
     "iopub.execute_input": "2024-06-30T15:19:20.252478Z",
     "iopub.status.busy": "2024-06-30T15:19:20.251476Z",
     "iopub.status.idle": "2024-06-30T15:19:20.258464Z",
     "shell.execute_reply": "2024-06-30T15:19:20.258464Z",
     "shell.execute_reply.started": "2024-06-30T15:19:20.252478Z"
    }
   },
   "outputs": [],
   "source": [
    "%store -r ia_shb_df_eval"
   ]
  },
  {
   "cell_type": "code",
   "execution_count": 4,
   "id": "add8204b-981c-4b2e-b7a9-771e10af1421",
   "metadata": {
    "execution": {
     "iopub.execute_input": "2024-06-30T15:19:21.241380Z",
     "iopub.status.busy": "2024-06-30T15:19:21.241380Z",
     "iopub.status.idle": "2024-06-30T15:19:21.250218Z",
     "shell.execute_reply": "2024-06-30T15:19:21.249775Z",
     "shell.execute_reply.started": "2024-06-30T15:19:21.241380Z"
    }
   },
   "outputs": [],
   "source": [
    "%store -r ia_qnrf_df_eval"
   ]
  },
  {
   "cell_type": "code",
   "execution_count": 5,
   "id": "e323b52a-6653-4255-a5ca-c7a23dfc96e4",
   "metadata": {
    "execution": {
     "iopub.execute_input": "2024-06-30T15:19:22.202358Z",
     "iopub.status.busy": "2024-06-30T15:19:22.202358Z",
     "iopub.status.idle": "2024-06-30T15:19:22.209829Z",
     "shell.execute_reply": "2024-06-30T15:19:22.209829Z",
     "shell.execute_reply.started": "2024-06-30T15:19:22.202358Z"
    }
   },
   "outputs": [],
   "source": [
    "%store -r h2_sha_df_eval"
   ]
  },
  {
   "cell_type": "code",
   "execution_count": 6,
   "id": "0017a638-c8d1-4dc9-9d45-4c9d783134e0",
   "metadata": {
    "execution": {
     "iopub.execute_input": "2024-06-30T15:19:23.194801Z",
     "iopub.status.busy": "2024-06-30T15:19:23.194801Z",
     "iopub.status.idle": "2024-06-30T15:19:23.201310Z",
     "shell.execute_reply": "2024-06-30T15:19:23.200894Z",
     "shell.execute_reply.started": "2024-06-30T15:19:23.194801Z"
    }
   },
   "outputs": [],
   "source": [
    "%store -r h2_shb_df_eval"
   ]
  },
  {
   "cell_type": "code",
   "execution_count": 7,
   "id": "fb92318c-7397-4953-a62e-e8077f1e8533",
   "metadata": {
    "execution": {
     "iopub.execute_input": "2024-06-30T15:19:24.306475Z",
     "iopub.status.busy": "2024-06-30T15:19:24.306475Z",
     "iopub.status.idle": "2024-06-30T15:19:24.314513Z",
     "shell.execute_reply": "2024-06-30T15:19:24.314513Z",
     "shell.execute_reply.started": "2024-06-30T15:19:24.306475Z"
    }
   },
   "outputs": [],
   "source": [
    "%store -r h2_qnrf_df_eval"
   ]
  },
  {
   "cell_type": "code",
   "execution_count": 8,
   "id": "7528a1a3-464c-4ab4-93a7-f58322ce10c7",
   "metadata": {
    "execution": {
     "iopub.execute_input": "2024-06-30T15:21:11.659280Z",
     "iopub.status.busy": "2024-06-30T15:21:11.659280Z",
     "iopub.status.idle": "2024-06-30T15:21:11.670752Z",
     "shell.execute_reply": "2024-06-30T15:21:11.669550Z",
     "shell.execute_reply.started": "2024-06-30T15:21:11.659280Z"
    }
   },
   "outputs": [],
   "source": [
    "%store -r h2_s16_sha_df_eval"
   ]
  },
  {
   "cell_type": "code",
   "execution_count": null,
   "id": "31a8e994-14d5-4c0d-a3f4-fd4e9447a37e",
   "metadata": {},
   "outputs": [],
   "source": [
    "#NO SE HICIERON RESULTADOS PARA h2_s16 EN shb Y qnrf PORQUE TARDA MUCHO"
   ]
  },
  {
   "cell_type": "code",
   "execution_count": 11,
   "id": "ecdc508e-6516-4e1a-a3aa-ce29995ba068",
   "metadata": {
    "execution": {
     "iopub.execute_input": "2024-06-30T15:21:14.487503Z",
     "iopub.status.busy": "2024-06-30T15:21:14.487503Z",
     "iopub.status.idle": "2024-06-30T15:21:14.495060Z",
     "shell.execute_reply": "2024-06-30T15:21:14.495060Z",
     "shell.execute_reply.started": "2024-06-30T15:21:14.487503Z"
    }
   },
   "outputs": [],
   "source": [
    "%store -r h16_sha_df_eval"
   ]
  },
  {
   "cell_type": "code",
   "execution_count": 12,
   "id": "85d6121b-29fe-41a9-be00-8c8b1ab01521",
   "metadata": {
    "execution": {
     "iopub.execute_input": "2024-06-30T15:21:15.210262Z",
     "iopub.status.busy": "2024-06-30T15:21:15.210262Z",
     "iopub.status.idle": "2024-06-30T15:21:15.219411Z",
     "shell.execute_reply": "2024-06-30T15:21:15.218576Z",
     "shell.execute_reply.started": "2024-06-30T15:21:15.210262Z"
    }
   },
   "outputs": [],
   "source": [
    "%store -r h16_shb_df_eval"
   ]
  },
  {
   "cell_type": "code",
   "execution_count": 13,
   "id": "4653d7c0-23a7-4bf9-ac34-c1118136425e",
   "metadata": {
    "execution": {
     "iopub.execute_input": "2024-06-30T15:21:16.036501Z",
     "iopub.status.busy": "2024-06-30T15:21:16.035919Z",
     "iopub.status.idle": "2024-06-30T15:21:16.042570Z",
     "shell.execute_reply": "2024-06-30T15:21:16.042570Z",
     "shell.execute_reply.started": "2024-06-30T15:21:16.036501Z"
    }
   },
   "outputs": [],
   "source": [
    "%store -r h16_qnrf_df_eval"
   ]
  },
  {
   "cell_type": "code",
   "execution_count": 16,
   "id": "117a5526-87a4-4360-8860-71bcfc638476",
   "metadata": {
    "execution": {
     "iopub.execute_input": "2024-06-30T15:25:36.558565Z",
     "iopub.status.busy": "2024-06-30T15:25:36.557565Z",
     "iopub.status.idle": "2024-06-30T15:25:36.577421Z",
     "shell.execute_reply": "2024-06-30T15:25:36.576548Z",
     "shell.execute_reply.started": "2024-06-30T15:25:36.557565Z"
    }
   },
   "outputs": [],
   "source": [
    "sha_df_eval = pd.concat([ia_sha_df_eval.loc[:,('Pred_Count','GT Count')].sort_index(),h2_sha_df_eval.loc[:,'Pred_Count'].sort_index(),\n",
    "                        h16_sha_df_eval.loc[:,'Pred_Count'].sort_index(),h2_s16_sha_df_eval.loc[:,'Pred_Count'].sort_index()], axis=1)\n",
    "shb_df_eval = pd.concat([ia_shb_df_eval.loc[:,('Pred_Count','GT Count')].sort_index(),h2_shb_df_eval.loc[:,'Pred_Count'].sort_index(),\n",
    "                        h16_shb_df_eval.loc[:,'Pred_Count'].sort_index()], axis=1)\n",
    "qnrf_df_eval = pd.concat([ia_qnrf_df_eval.loc[:,('Pred_Count','GT Count')].sort_index(),h2_qnrf_df_eval.loc[:,'Pred_Count'].sort_index(),\n",
    "                        h16_qnrf_df_eval.loc[:,'Pred_Count'].sort_index()], axis=1)"
   ]
  },
  {
   "cell_type": "code",
   "execution_count": 17,
   "id": "9e523165-7537-4a4f-9a75-f757b8687d23",
   "metadata": {
    "execution": {
     "iopub.execute_input": "2024-06-30T15:28:33.804158Z",
     "iopub.status.busy": "2024-06-30T15:28:33.798887Z",
     "iopub.status.idle": "2024-06-30T15:28:33.818242Z",
     "shell.execute_reply": "2024-06-30T15:28:33.818242Z",
     "shell.execute_reply.started": "2024-06-30T15:28:33.804158Z"
    }
   },
   "outputs": [],
   "source": [
    "sha_df_eval['MAE_IA'] = np.abs(sha_df_eval.iloc[:,0]-sha_df_eval.iloc[:,1])\n",
    "sha_df_eval['MAE_H2_S224'] = np.abs(sha_df_eval.iloc[:,2]-sha_df_eval.iloc[:,1])\n",
    "sha_df_eval['MAE_H16_S16'] = np.abs(sha_df_eval.iloc[:,3]-sha_df_eval.iloc[:,1])\n",
    "sha_df_eval['MAE_H2_S16'] = np.abs(sha_df_eval.iloc[:,4]-sha_df_eval.iloc[:,1])\n",
    "\n",
    "shb_df_eval['MAE_IA'] = np.abs(shb_df_eval.iloc[:,0]-shb_df_eval.iloc[:,1])\n",
    "shb_df_eval['MAE_H2_S224'] = np.abs(shb_df_eval.iloc[:,2]-shb_df_eval.iloc[:,1])\n",
    "shb_df_eval['MAE_H16_S16'] = np.abs(shb_df_eval.iloc[:,3]-shb_df_eval.iloc[:,1])\n",
    "\n",
    "qnrf_df_eval['MAE_IA'] = np.abs(qnrf_df_eval.iloc[:,0]-qnrf_df_eval.iloc[:,1])\n",
    "qnrf_df_eval['MAE_H2_S224'] = np.abs(qnrf_df_eval.iloc[:,2]-qnrf_df_eval.iloc[:,1])\n",
    "qnrf_df_eval['MAE_H16_S16'] = np.abs(qnrf_df_eval.iloc[:,3]-qnrf_df_eval.iloc[:,1])"
   ]
  },
  {
   "cell_type": "code",
   "execution_count": 54,
   "id": "8ade71e2-049f-4db4-b724-151edec79a12",
   "metadata": {
    "execution": {
     "iopub.execute_input": "2024-06-30T17:00:15.146093Z",
     "iopub.status.busy": "2024-06-30T17:00:15.146093Z",
     "iopub.status.idle": "2024-06-30T17:00:15.163030Z",
     "shell.execute_reply": "2024-06-30T17:00:15.163030Z",
     "shell.execute_reply.started": "2024-06-30T17:00:15.146093Z"
    }
   },
   "outputs": [],
   "source": [
    "sha_df_eval['RMSE_IA'] = np.abs(sha_df_eval.iloc[:,0]-sha_df_eval.iloc[:,1])**2\n",
    "sha_df_eval['RMSE_H2_S224'] = np.abs(sha_df_eval.iloc[:,2]-sha_df_eval.iloc[:,1])**2\n",
    "sha_df_eval['RMSE_H16_S16'] = np.abs(sha_df_eval.iloc[:,3]-sha_df_eval.iloc[:,1])**2\n",
    "sha_df_eval['RMSE_H2_S16'] = np.abs(sha_df_eval.iloc[:,4]-sha_df_eval.iloc[:,1])**2\n",
    "\n",
    "shb_df_eval['RMSE_IA'] = np.abs(shb_df_eval.iloc[:,0]-shb_df_eval.iloc[:,1])**2\n",
    "shb_df_eval['RMSE_H2_S224'] = np.abs(shb_df_eval.iloc[:,2]-shb_df_eval.iloc[:,1])**2\n",
    "shb_df_eval['RMSE_H16_S16'] = np.abs(shb_df_eval.iloc[:,3]-shb_df_eval.iloc[:,1])**2\n",
    "\n",
    "qnrf_df_eval['RMSE_IA'] = np.abs(qnrf_df_eval.iloc[:,0]-qnrf_df_eval.iloc[:,1])**2\n",
    "qnrf_df_eval['RMSE_H2_S224'] = np.abs(qnrf_df_eval.iloc[:,2]-qnrf_df_eval.iloc[:,1])**2\n",
    "qnrf_df_eval['RMSE_H16_S16'] = np.abs(qnrf_df_eval.iloc[:,3]-qnrf_df_eval.iloc[:,1])**2"
   ]
  },
  {
   "cell_type": "code",
   "execution_count": 55,
   "id": "b5bf60f4-d33c-4fd1-9598-0c8c617218ed",
   "metadata": {
    "execution": {
     "iopub.execute_input": "2024-06-30T17:00:16.663043Z",
     "iopub.status.busy": "2024-06-30T17:00:16.663043Z",
     "iopub.status.idle": "2024-06-30T17:00:16.686204Z",
     "shell.execute_reply": "2024-06-30T17:00:16.685203Z",
     "shell.execute_reply.started": "2024-06-30T17:00:16.663043Z"
    }
   },
   "outputs": [
    {
     "data": {
      "text/html": [
       "<div>\n",
       "<style scoped>\n",
       "    .dataframe tbody tr th:only-of-type {\n",
       "        vertical-align: middle;\n",
       "    }\n",
       "\n",
       "    .dataframe tbody tr th {\n",
       "        vertical-align: top;\n",
       "    }\n",
       "\n",
       "    .dataframe thead th {\n",
       "        text-align: right;\n",
       "    }\n",
       "</style>\n",
       "<table border=\"1\" class=\"dataframe\">\n",
       "  <thead>\n",
       "    <tr style=\"text-align: right;\">\n",
       "      <th></th>\n",
       "      <th>Pred_Count</th>\n",
       "      <th>GT Count</th>\n",
       "      <th>Pred_Count</th>\n",
       "      <th>Pred_Count</th>\n",
       "      <th>Pred_Count</th>\n",
       "      <th>MAE_IA</th>\n",
       "      <th>MAE_H2_S224</th>\n",
       "      <th>MAE_H16_S16</th>\n",
       "      <th>MAE_H2_S16</th>\n",
       "      <th>RMSE_IA</th>\n",
       "      <th>RMSE_H2_S224</th>\n",
       "      <th>RMSE_H16_S16</th>\n",
       "      <th>RMSE_H2_S16</th>\n",
       "    </tr>\n",
       "  </thead>\n",
       "  <tbody>\n",
       "    <tr>\n",
       "      <th>001.jpg</th>\n",
       "      <td>198.393661</td>\n",
       "      <td>172.0</td>\n",
       "      <td>166.566116</td>\n",
       "      <td>207.708340</td>\n",
       "      <td>219.958427</td>\n",
       "      <td>26.393661</td>\n",
       "      <td>5.433884</td>\n",
       "      <td>35.708340</td>\n",
       "      <td>47.958427</td>\n",
       "      <td>696.625367</td>\n",
       "      <td>29.527092</td>\n",
       "      <td>1.275086e+03</td>\n",
       "      <td>2.300011e+03</td>\n",
       "    </tr>\n",
       "    <tr>\n",
       "      <th>002.jpg</th>\n",
       "      <td>1221.036255</td>\n",
       "      <td>1111.0</td>\n",
       "      <td>911.403076</td>\n",
       "      <td>5140.758420</td>\n",
       "      <td>5223.833984</td>\n",
       "      <td>110.036255</td>\n",
       "      <td>199.596924</td>\n",
       "      <td>4029.758420</td>\n",
       "      <td>4112.833984</td>\n",
       "      <td>12107.977389</td>\n",
       "      <td>39838.932002</td>\n",
       "      <td>1.623895e+07</td>\n",
       "      <td>1.691540e+07</td>\n",
       "    </tr>\n",
       "    <tr>\n",
       "      <th>003.jpg</th>\n",
       "      <td>444.299438</td>\n",
       "      <td>302.0</td>\n",
       "      <td>483.838505</td>\n",
       "      <td>782.623974</td>\n",
       "      <td>921.747375</td>\n",
       "      <td>142.299438</td>\n",
       "      <td>181.838505</td>\n",
       "      <td>480.623974</td>\n",
       "      <td>619.747375</td>\n",
       "      <td>20249.130191</td>\n",
       "      <td>33065.241825</td>\n",
       "      <td>2.309994e+05</td>\n",
       "      <td>3.840868e+05</td>\n",
       "    </tr>\n",
       "    <tr>\n",
       "      <th>004.jpg</th>\n",
       "      <td>160.324677</td>\n",
       "      <td>170.0</td>\n",
       "      <td>140.968231</td>\n",
       "      <td>1688.451410</td>\n",
       "      <td>1769.046326</td>\n",
       "      <td>9.675323</td>\n",
       "      <td>29.031769</td>\n",
       "      <td>1518.451410</td>\n",
       "      <td>1599.046326</td>\n",
       "      <td>93.611885</td>\n",
       "      <td>842.843600</td>\n",
       "      <td>2.305695e+06</td>\n",
       "      <td>2.556949e+06</td>\n",
       "    </tr>\n",
       "    <tr>\n",
       "      <th>005.jpg</th>\n",
       "      <td>680.858154</td>\n",
       "      <td>819.0</td>\n",
       "      <td>662.927963</td>\n",
       "      <td>6158.633171</td>\n",
       "      <td>5912.653809</td>\n",
       "      <td>138.141846</td>\n",
       "      <td>156.072037</td>\n",
       "      <td>5339.633171</td>\n",
       "      <td>5093.653809</td>\n",
       "      <td>19083.169534</td>\n",
       "      <td>24358.480653</td>\n",
       "      <td>2.851168e+07</td>\n",
       "      <td>2.594531e+07</td>\n",
       "    </tr>\n",
       "    <tr>\n",
       "      <th>...</th>\n",
       "      <td>...</td>\n",
       "      <td>...</td>\n",
       "      <td>...</td>\n",
       "      <td>...</td>\n",
       "      <td>...</td>\n",
       "      <td>...</td>\n",
       "      <td>...</td>\n",
       "      <td>...</td>\n",
       "      <td>...</td>\n",
       "      <td>...</td>\n",
       "      <td>...</td>\n",
       "      <td>...</td>\n",
       "      <td>...</td>\n",
       "    </tr>\n",
       "    <tr>\n",
       "      <th>178.jpg</th>\n",
       "      <td>495.706512</td>\n",
       "      <td>549.0</td>\n",
       "      <td>309.369438</td>\n",
       "      <td>353.315917</td>\n",
       "      <td>242.052769</td>\n",
       "      <td>53.293488</td>\n",
       "      <td>239.630562</td>\n",
       "      <td>195.684083</td>\n",
       "      <td>306.947231</td>\n",
       "      <td>2840.195815</td>\n",
       "      <td>57422.806162</td>\n",
       "      <td>3.829226e+04</td>\n",
       "      <td>9.421660e+04</td>\n",
       "    </tr>\n",
       "    <tr>\n",
       "      <th>179.jpg</th>\n",
       "      <td>399.232239</td>\n",
       "      <td>400.0</td>\n",
       "      <td>453.146959</td>\n",
       "      <td>803.818324</td>\n",
       "      <td>943.831367</td>\n",
       "      <td>0.767761</td>\n",
       "      <td>53.146959</td>\n",
       "      <td>403.818324</td>\n",
       "      <td>543.831367</td>\n",
       "      <td>0.589457</td>\n",
       "      <td>2824.599283</td>\n",
       "      <td>1.630692e+05</td>\n",
       "      <td>2.957526e+05</td>\n",
       "    </tr>\n",
       "    <tr>\n",
       "      <th>180.jpg</th>\n",
       "      <td>353.631531</td>\n",
       "      <td>398.0</td>\n",
       "      <td>381.232562</td>\n",
       "      <td>965.285664</td>\n",
       "      <td>1615.093801</td>\n",
       "      <td>44.368469</td>\n",
       "      <td>16.767438</td>\n",
       "      <td>567.285664</td>\n",
       "      <td>1217.093801</td>\n",
       "      <td>1968.561063</td>\n",
       "      <td>281.146979</td>\n",
       "      <td>3.218130e+05</td>\n",
       "      <td>1.481317e+06</td>\n",
       "    </tr>\n",
       "    <tr>\n",
       "      <th>181.jpg</th>\n",
       "      <td>211.200455</td>\n",
       "      <td>216.0</td>\n",
       "      <td>226.616226</td>\n",
       "      <td>2009.570815</td>\n",
       "      <td>2325.383850</td>\n",
       "      <td>4.799545</td>\n",
       "      <td>10.616226</td>\n",
       "      <td>1793.570815</td>\n",
       "      <td>2109.383850</td>\n",
       "      <td>23.035635</td>\n",
       "      <td>112.704259</td>\n",
       "      <td>3.216896e+06</td>\n",
       "      <td>4.449500e+06</td>\n",
       "    </tr>\n",
       "    <tr>\n",
       "      <th>182.jpg</th>\n",
       "      <td>191.725327</td>\n",
       "      <td>199.0</td>\n",
       "      <td>151.333210</td>\n",
       "      <td>1046.502722</td>\n",
       "      <td>838.030243</td>\n",
       "      <td>7.274673</td>\n",
       "      <td>47.666790</td>\n",
       "      <td>847.502722</td>\n",
       "      <td>639.030243</td>\n",
       "      <td>52.920874</td>\n",
       "      <td>2272.122870</td>\n",
       "      <td>7.182609e+05</td>\n",
       "      <td>4.083597e+05</td>\n",
       "    </tr>\n",
       "  </tbody>\n",
       "</table>\n",
       "<p>182 rows × 13 columns</p>\n",
       "</div>"
      ],
      "text/plain": [
       "          Pred_Count  GT Count  Pred_Count   Pred_Count   Pred_Count  \\\n",
       "001.jpg   198.393661     172.0  166.566116   207.708340   219.958427   \n",
       "002.jpg  1221.036255    1111.0  911.403076  5140.758420  5223.833984   \n",
       "003.jpg   444.299438     302.0  483.838505   782.623974   921.747375   \n",
       "004.jpg   160.324677     170.0  140.968231  1688.451410  1769.046326   \n",
       "005.jpg   680.858154     819.0  662.927963  6158.633171  5912.653809   \n",
       "...              ...       ...         ...          ...          ...   \n",
       "178.jpg   495.706512     549.0  309.369438   353.315917   242.052769   \n",
       "179.jpg   399.232239     400.0  453.146959   803.818324   943.831367   \n",
       "180.jpg   353.631531     398.0  381.232562   965.285664  1615.093801   \n",
       "181.jpg   211.200455     216.0  226.616226  2009.570815  2325.383850   \n",
       "182.jpg   191.725327     199.0  151.333210  1046.502722   838.030243   \n",
       "\n",
       "             MAE_IA  MAE_H2_S224  MAE_H16_S16   MAE_H2_S16       RMSE_IA  \\\n",
       "001.jpg   26.393661     5.433884    35.708340    47.958427    696.625367   \n",
       "002.jpg  110.036255   199.596924  4029.758420  4112.833984  12107.977389   \n",
       "003.jpg  142.299438   181.838505   480.623974   619.747375  20249.130191   \n",
       "004.jpg    9.675323    29.031769  1518.451410  1599.046326     93.611885   \n",
       "005.jpg  138.141846   156.072037  5339.633171  5093.653809  19083.169534   \n",
       "...             ...          ...          ...          ...           ...   \n",
       "178.jpg   53.293488   239.630562   195.684083   306.947231   2840.195815   \n",
       "179.jpg    0.767761    53.146959   403.818324   543.831367      0.589457   \n",
       "180.jpg   44.368469    16.767438   567.285664  1217.093801   1968.561063   \n",
       "181.jpg    4.799545    10.616226  1793.570815  2109.383850     23.035635   \n",
       "182.jpg    7.274673    47.666790   847.502722   639.030243     52.920874   \n",
       "\n",
       "         RMSE_H2_S224  RMSE_H16_S16   RMSE_H2_S16  \n",
       "001.jpg     29.527092  1.275086e+03  2.300011e+03  \n",
       "002.jpg  39838.932002  1.623895e+07  1.691540e+07  \n",
       "003.jpg  33065.241825  2.309994e+05  3.840868e+05  \n",
       "004.jpg    842.843600  2.305695e+06  2.556949e+06  \n",
       "005.jpg  24358.480653  2.851168e+07  2.594531e+07  \n",
       "...               ...           ...           ...  \n",
       "178.jpg  57422.806162  3.829226e+04  9.421660e+04  \n",
       "179.jpg   2824.599283  1.630692e+05  2.957526e+05  \n",
       "180.jpg    281.146979  3.218130e+05  1.481317e+06  \n",
       "181.jpg    112.704259  3.216896e+06  4.449500e+06  \n",
       "182.jpg   2272.122870  7.182609e+05  4.083597e+05  \n",
       "\n",
       "[182 rows x 13 columns]"
      ]
     },
     "execution_count": 55,
     "metadata": {},
     "output_type": "execute_result"
    }
   ],
   "source": [
    "sha_df_eval"
   ]
  },
  {
   "cell_type": "code",
   "execution_count": 19,
   "id": "2f5e0e05-576b-4b29-b8d1-5bbd1db82bfc",
   "metadata": {
    "execution": {
     "iopub.execute_input": "2024-06-30T15:32:51.077103Z",
     "iopub.status.busy": "2024-06-30T15:32:51.070512Z",
     "iopub.status.idle": "2024-06-30T15:32:51.088888Z",
     "shell.execute_reply": "2024-06-30T15:32:51.087872Z",
     "shell.execute_reply.started": "2024-06-30T15:32:51.077103Z"
    }
   },
   "outputs": [
    {
     "name": "stdout",
     "output_type": "stream",
     "text": [
      "Results for ShangHaiTech_A: \n",
      "\n",
      "    CLIP MAE:  53.21219083765051\n",
      "    H2_S224 MAE:  78.22124132964309\n",
      "    H16_S16 MAE:  1199.0489783913695\n",
      "    H2_S16 MAE:  1393.9323562154402\n",
      "----------------------------------\n",
      "\n",
      "Results for ShangHaiTech_B: \n",
      "\n",
      "    CLIP MAE:  6.803642502313928\n",
      "    H2_S224 MAE:  30.194135589116176\n",
      "    H16_S16 MAE:  168.7934209627182\n",
      "----------------------------------\n",
      "\n",
      "Results for UCF-QNRF: \n",
      "\n",
      "    CLIP MAE:  79.95919452598709\n",
      "    H2_S224 MAE:  134.45737665144915\n",
      "    H16_S16 MAE:  3462.2114864499977\n"
     ]
    }
   ],
   "source": [
    "print('Results for ShangHaiTech_A: \\n')\n",
    "print('    CLIP MAE: ', np.mean(sha_df_eval['MAE_IA']))\n",
    "print('    H2_S224 MAE: ', np.mean(sha_df_eval['MAE_H2_S224']))\n",
    "print('    H16_S16 MAE: ', np.mean(sha_df_eval['MAE_H16_S16']))\n",
    "print('    H2_S16 MAE: ', np.mean(sha_df_eval['MAE_H2_S16']))\n",
    "print('----------------------------------\\n')\n",
    "\n",
    "print('Results for ShangHaiTech_B: \\n')\n",
    "print('    CLIP MAE: ', np.mean(shb_df_eval['MAE_IA']))\n",
    "print('    H2_S224 MAE: ', np.mean(shb_df_eval['MAE_H2_S224']))\n",
    "print('    H16_S16 MAE: ', np.mean(shb_df_eval['MAE_H16_S16']))\n",
    "print('----------------------------------\\n')\n",
    "\n",
    "print('Results for UCF-QNRF: \\n')\n",
    "print('    CLIP MAE: ', np.mean(qnrf_df_eval['MAE_IA']))\n",
    "print('    H2_S224 MAE: ', np.mean(qnrf_df_eval['MAE_H2_S224']))\n",
    "print('    H16_S16 MAE: ', np.mean(qnrf_df_eval['MAE_H16_S16']))"
   ]
  },
  {
   "cell_type": "code",
   "execution_count": 56,
   "id": "022eff4b-6b00-45d0-ab8d-bf601e8677de",
   "metadata": {
    "execution": {
     "iopub.execute_input": "2024-06-30T17:01:51.717717Z",
     "iopub.status.busy": "2024-06-30T17:01:51.717502Z",
     "iopub.status.idle": "2024-06-30T17:01:51.729622Z",
     "shell.execute_reply": "2024-06-30T17:01:51.729622Z",
     "shell.execute_reply.started": "2024-06-30T17:01:51.717717Z"
    }
   },
   "outputs": [
    {
     "name": "stdout",
     "output_type": "stream",
     "text": [
      "Results for ShangHaiTech_A: \n",
      "\n",
      "    CLIP RMSE:  88.74380565402117\n",
      "    H2_S224 RMSE:  119.32012753636339\n",
      "    H16_S16 RMSE:  1604.2803235895794\n",
      "    H2_S16 RMSE:  1859.8881593923647\n",
      "----------------------------------\n",
      "\n",
      "Results for ShangHaiTech_B: \n",
      "\n",
      "    CLIP RMSE:  11.056894775894133\n",
      "    H2_S224 RMSE:  46.67068159602387\n",
      "    H16_S16 RMSE:  205.9995722132832\n",
      "----------------------------------\n",
      "\n",
      "Results for UCF-QNRF: \n",
      "\n",
      "    CLIP RMSE:  139.46115513558956\n",
      "    H2_S224 RMSE:  251.5457162225038\n",
      "    H16_S16 RMSE:  4318.856233649072\n"
     ]
    }
   ],
   "source": [
    "print('Results for ShangHaiTech_A: \\n')\n",
    "print('    CLIP RMSE: ', np.sqrt(np.mean(sha_df_eval['RMSE_IA'])))\n",
    "print('    H2_S224 RMSE: ', np.sqrt(np.mean(sha_df_eval['RMSE_H2_S224'])))\n",
    "print('    H16_S16 RMSE: ', np.sqrt(np.mean(sha_df_eval['RMSE_H16_S16'])))\n",
    "print('    H2_S16 RMSE: ', np.sqrt(np.mean(sha_df_eval['RMSE_H2_S16'])))\n",
    "print('----------------------------------\\n')\n",
    "\n",
    "print('Results for ShangHaiTech_B: \\n')\n",
    "print('    CLIP RMSE: ', np.sqrt(np.mean(shb_df_eval['RMSE_IA'])))\n",
    "print('    H2_S224 RMSE: ', np.sqrt(np.mean(shb_df_eval['RMSE_H2_S224'])))\n",
    "print('    H16_S16 RMSE: ', np.sqrt(np.mean(shb_df_eval['RMSE_H16_S16'])))\n",
    "print('----------------------------------\\n')\n",
    "\n",
    "print('Results for UCF-QNRF: \\n')\n",
    "print('    CLIP RMSE: ', np.sqrt(np.mean(qnrf_df_eval['RMSE_IA'])))\n",
    "print('    H2_S224 RMSE: ', np.sqrt(np.mean(qnrf_df_eval['RMSE_H2_S224'])))\n",
    "print('    H16_S16 RMSE: ', np.sqrt(np.mean(qnrf_df_eval['RMSE_H16_S16'])))"
   ]
  },
  {
   "cell_type": "code",
   "execution_count": 20,
   "id": "8ff5c0e0-ccf6-4a7f-b144-81219070c313",
   "metadata": {
    "execution": {
     "iopub.execute_input": "2024-06-30T15:34:08.809379Z",
     "iopub.status.busy": "2024-06-30T15:34:08.808399Z",
     "iopub.status.idle": "2024-06-30T15:34:08.820659Z",
     "shell.execute_reply": "2024-06-30T15:34:08.819660Z",
     "shell.execute_reply.started": "2024-06-30T15:34:08.809379Z"
    }
   },
   "outputs": [
    {
     "name": "stdout",
     "output_type": "stream",
     "text": [
      "Results for ShangHaiTech_A: \n",
      "\n",
      "    CLIP Median MAE:  25.87020492553711\n",
      "    H2_S224 Median MAE:  46.97343826293945\n",
      "    H16_S16 Median MAE:  900.9913811571896\n",
      "    H2_S16 Median MAE:  1061.899673461914\n",
      "----------------------------------\n",
      "\n",
      "Results for ShangHaiTech_B: \n",
      "\n",
      "    CLIP Median MAE:  3.7430076599121094\n",
      "    H2_S224 Median MAE:  17.448088633827865\n",
      "    H16_S16 Median MAE:  147.02493038401008\n",
      "----------------------------------\n",
      "\n",
      "Results for UCF-QNRF: \n",
      "\n",
      "    CLIP Median MAE:  36.41459655761719\n",
      "    H2_S224 Median MAE:  66.67295956611633\n",
      "    H16_S16 Median MAE:  2823.3693750090897\n"
     ]
    }
   ],
   "source": [
    "print('Results for ShangHaiTech_A: \\n')\n",
    "print('    CLIP Median MAE: ', np.median(sha_df_eval['MAE_IA']))\n",
    "print('    H2_S224 Median MAE: ', np.median(sha_df_eval['MAE_H2_S224']))\n",
    "print('    H16_S16 Median MAE: ', np.median(sha_df_eval['MAE_H16_S16']))\n",
    "print('    H2_S16 Median MAE: ', np.median(sha_df_eval['MAE_H2_S16']))\n",
    "print('----------------------------------\\n')\n",
    "\n",
    "print('Results for ShangHaiTech_B: \\n')\n",
    "print('    CLIP Median MAE: ', np.median(shb_df_eval['MAE_IA']))\n",
    "print('    H2_S224 Median MAE: ', np.median(shb_df_eval['MAE_H2_S224']))\n",
    "print('    H16_S16 Median MAE: ', np.median(shb_df_eval['MAE_H16_S16']))\n",
    "print('----------------------------------\\n')\n",
    "\n",
    "print('Results for UCF-QNRF: \\n')\n",
    "print('    CLIP Median MAE: ', np.median(qnrf_df_eval['MAE_IA']))\n",
    "print('    H2_S224 Median MAE: ', np.median(qnrf_df_eval['MAE_H2_S224']))\n",
    "print('    H16_S16 Median MAE: ', np.median(qnrf_df_eval['MAE_H16_S16']))"
   ]
  },
  {
   "cell_type": "code",
   "execution_count": 57,
   "id": "71dc3fe3-91d8-4aeb-9a0b-314230867497",
   "metadata": {
    "execution": {
     "iopub.execute_input": "2024-06-30T17:03:38.057204Z",
     "iopub.status.busy": "2024-06-30T17:03:38.056354Z",
     "iopub.status.idle": "2024-06-30T17:03:38.067126Z",
     "shell.execute_reply": "2024-06-30T17:03:38.067126Z",
     "shell.execute_reply.started": "2024-06-30T17:03:38.057204Z"
    }
   },
   "outputs": [
    {
     "name": "stdout",
     "output_type": "stream",
     "text": [
      "Results for ShangHaiTech_A: \n",
      "\n",
      "    CLIP Median RMSE:  25.870517978526145\n",
      "    H2_S224 Median RMSE:  46.97343892472726\n",
      "    H16_S16 Median RMSE:  901.0128732037823\n",
      "    H2_S16 Median RMSE:  1061.949997707248\n",
      "----------------------------------\n",
      "\n",
      "Results for ShangHaiTech_B: \n",
      "\n",
      "    CLIP Median RMSE:  3.7430076817535447\n",
      "    H2_S224 Median RMSE:  17.448371493298453\n",
      "    H16_S16 Median RMSE:  147.02493451213593\n",
      "----------------------------------\n",
      "\n",
      "Results for UCF-QNRF: \n",
      "\n",
      "    CLIP Median RMSE:  36.41460026584174\n",
      "    H2_S224 Median RMSE:  66.67296698167596\n",
      "    H16_S16 Median RMSE:  2823.5571738396466\n"
     ]
    }
   ],
   "source": [
    "print('Results for ShangHaiTech_A: \\n')\n",
    "print('    CLIP Median RMSE: ', np.sqrt(np.median(sha_df_eval['RMSE_IA'])))\n",
    "print('    H2_S224 Median RMSE: ', np.sqrt(np.median(sha_df_eval['RMSE_H2_S224'])))\n",
    "print('    H16_S16 Median RMSE: ', np.sqrt(np.median(sha_df_eval['RMSE_H16_S16'])))\n",
    "print('    H2_S16 Median RMSE: ', np.sqrt(np.median(sha_df_eval['RMSE_H2_S16'])))\n",
    "print('----------------------------------\\n')\n",
    "\n",
    "print('Results for ShangHaiTech_B: \\n')\n",
    "print('    CLIP Median RMSE: ', np.sqrt(np.median(shb_df_eval['RMSE_IA'])))\n",
    "print('    H2_S224 Median RMSE: ', np.sqrt(np.median(shb_df_eval['RMSE_H2_S224'])))\n",
    "print('    H16_S16 Median RMSE: ', np.sqrt(np.median(shb_df_eval['RMSE_H16_S16'])))\n",
    "print('----------------------------------\\n')\n",
    "\n",
    "print('Results for UCF-QNRF: \\n')\n",
    "print('    CLIP Median RMSE: ', np.sqrt(np.median(qnrf_df_eval['RMSE_IA'])))\n",
    "print('    H2_S224 Median RMSE: ', np.sqrt(np.median(qnrf_df_eval['RMSE_H2_S224'])))\n",
    "print('    H16_S16 Median RMSE: ', np.sqrt(np.median(qnrf_df_eval['RMSE_H16_S16'])))"
   ]
  },
  {
   "cell_type": "code",
   "execution_count": 53,
   "id": "597c4f31-dfb4-4740-b1cf-b63b050cab8f",
   "metadata": {
    "execution": {
     "iopub.execute_input": "2024-06-30T15:54:24.046306Z",
     "iopub.status.busy": "2024-06-30T15:54:24.046306Z",
     "iopub.status.idle": "2024-06-30T15:54:24.350473Z",
     "shell.execute_reply": "2024-06-30T15:54:24.349455Z",
     "shell.execute_reply.started": "2024-06-30T15:54:24.046306Z"
    }
   },
   "outputs": [
    {
     "data": {
      "text/plain": [
       "(array([57., 49., 29., 13., 15.,  8.,  4.,  4.,  2.,  1.]),\n",
       " array([  20.15784479,  552.10537742, 1084.05291005, 1616.00044268,\n",
       "        2147.94797531, 2679.89550794, 3211.84304057, 3743.79057319,\n",
       "        4275.73810582, 4807.68563845, 5339.63317108]),\n",
       " <BarContainer object of 10 artists>)"
      ]
     },
     "execution_count": 53,
     "metadata": {},
     "output_type": "execute_result"
    },
    {
     "data": {
      "image/png": "[encoded data removed]",
      "text/plain": [
       "<Figure size 800x400 with 3 Axes>"
      ]
     },
     "metadata": {},
     "output_type": "display_data"
    }
   ],
   "source": [
    "fig, axs = plt.subplots(1,3,sharey=True,figsize=(8,4))#,sharex=True)\n",
    "fig.suptitle('SHA results')\n",
    "for ax in axs.flat:\n",
    "    ax.set(xlabel='MAE', ylabel='MAE Count')\n",
    "axs[0].set_title(\"AI results\")\n",
    "axs[1].set_title(\"H2_S224 results\")\n",
    "axs[2].set_title(\"H16_S16 results\")\n",
    "#axs[3].set_title(\"H2_S16 results\")\n",
    "axs[0].hist(sha_df_eval['MAE_IA'],color='red')\n",
    "axs[1].hist(sha_df_eval['MAE_H2_S224'])\n",
    "axs[2].hist(sha_df_eval['MAE_H16_S16'])\n",
    "#axs[3].hist(sha_df_eval['MAE_H2_S16'])"
   ]
  },
  {
   "cell_type": "code",
   "execution_count": 52,
   "id": "186d7aa6-c381-44e5-9859-8c34d0d1c57e",
   "metadata": {
    "execution": {
     "iopub.execute_input": "2024-06-30T15:54:04.723719Z",
     "iopub.status.busy": "2024-06-30T15:54:04.718478Z",
     "iopub.status.idle": "2024-06-30T15:54:05.011840Z",
     "shell.execute_reply": "2024-06-30T15:54:05.011840Z",
     "shell.execute_reply.started": "2024-06-30T15:54:04.723719Z"
    }
   },
   "outputs": [
    {
     "data": {
      "text/plain": [
       "(array([62., 72., 60., 54., 30., 18., 12.,  5.,  2.,  1.]),\n",
       " array([2.32243538e-01, 6.33527124e+01, 1.26473181e+02, 1.89593650e+02,\n",
       "        2.52714119e+02, 3.15834588e+02, 3.78955057e+02, 4.42075526e+02,\n",
       "        5.05195994e+02, 5.68316463e+02, 6.31436932e+02]),\n",
       " <BarContainer object of 10 artists>)"
      ]
     },
     "execution_count": 52,
     "metadata": {},
     "output_type": "execute_result"
    },
    {
     "data": {
      "image/png": "[encoded data removed]",
      "text/plain": [
       "<Figure size 800x400 with 3 Axes>"
      ]
     },
     "metadata": {},
     "output_type": "display_data"
    }
   ],
   "source": [
    "fig, axs = plt.subplots(1,3,sharey=True,figsize=(8,4))#,sharex=True)\n",
    "fig.suptitle('SHB results')\n",
    "for ax in axs.flat:\n",
    "    ax.set(xlabel='MAE', ylabel='MAE Count')\n",
    "axs[0].set_title(\"AI results\")\n",
    "axs[1].set_title(\"H2_S224 results\")\n",
    "axs[2].set_title(\"H16_S16 results\")\n",
    "#axs[3].set_title(\"H2_S16 results\")\n",
    "axs[0].hist(shb_df_eval['MAE_IA'],color='red')\n",
    "axs[1].hist(shb_df_eval['MAE_H2_S224'])\n",
    "axs[2].hist(shb_df_eval['MAE_H16_S16'])\n",
    "#axs[3].hist(sha_df_eval['MAE_H2_S16'])"
   ]
  },
  {
   "cell_type": "code",
   "execution_count": 51,
   "id": "a94ef649-182c-4e0c-b374-607fecea07ac",
   "metadata": {
    "execution": {
     "iopub.execute_input": "2024-06-30T15:53:47.954736Z",
     "iopub.status.busy": "2024-06-30T15:53:47.949955Z",
     "iopub.status.idle": "2024-06-30T15:53:48.251996Z",
     "shell.execute_reply": "2024-06-30T15:53:48.251996Z",
     "shell.execute_reply.started": "2024-06-30T15:53:47.954736Z"
    }
   },
   "outputs": [
    {
     "data": {
      "text/plain": [
       "(array([97., 95., 64., 32., 27., 11.,  5.,  2.,  0.,  1.]),\n",
       " array([   72.60516827,  1705.62561921,  3338.64607014,  4971.66652108,\n",
       "         6604.68697201,  8237.70742295,  9870.72787388, 11503.74832482,\n",
       "        13136.76877575, 14769.78922669, 16402.80967762]),\n",
       " <BarContainer object of 10 artists>)"
      ]
     },
     "execution_count": 51,
     "metadata": {},
     "output_type": "execute_result"
    },
    {
     "data": {
      "image/png": "[encoded data removed]",
      "text/plain": [
       "<Figure size 800x400 with 3 Axes>"
      ]
     },
     "metadata": {},
     "output_type": "display_data"
    }
   ],
   "source": [
    "fig, axs = plt.subplots(1,3,sharey=True,figsize=(8,4))#,sharex=True)\n",
    "fig.suptitle('QNRF results')\n",
    "for ax in axs.flat:\n",
    "    ax.set(xlabel='MAE', ylabel='MAE Count')\n",
    "axs[0].set_title(\"AI results\")\n",
    "axs[1].set_title(\"H2_S224 results\")\n",
    "axs[2].set_title(\"H16_S16 results\")\n",
    "#axs[3].set_title(\"H2_S16 results\")\n",
    "axs[0].hist(qnrf_df_eval['MAE_IA'],color='red')\n",
    "axs[1].hist(qnrf_df_eval['MAE_H2_S224'])\n",
    "axs[2].hist(qnrf_df_eval['MAE_H16_S16'])\n",
    "#axs[3].hist(sha_df_eval['MAE_H2_S16'])"
   ]
  }
 ],
 "metadata": {
  "kernelspec": {
   "display_name": "Python 3 (ipykernel)",
   "language": "python",
   "name": "python3"
  },
  "language_info": {
   "codemirror_mode": {
    "name": "ipython",
    "version": 3
   },
   "file_extension": ".py",
   "mimetype": "text/x-python",
   "name": "python",
   "nbconvert_exporter": "python",
   "pygments_lexer": "ipython3",
   "version": "3.12.3"
  }
 },
 "nbformat": 4,
 "nbformat_minor": 5
}
