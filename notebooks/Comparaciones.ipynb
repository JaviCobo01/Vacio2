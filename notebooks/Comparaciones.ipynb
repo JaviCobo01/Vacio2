{
 "cells": [
  {
   "cell_type": "markdown",
   "id": "7ad11278-f1aa-49cf-852a-1f81afe0ed3d",
   "metadata": {},
   "source": [
    "# Comparación de métodos"
   ]
  },
  {
   "cell_type": "code",
   "execution_count": 38,
   "id": "97a1fed8-d83d-4821-beed-4b6480cb6c0f",
   "metadata": {
    "execution": {
     "iopub.execute_input": "2024-06-27T17:25:03.527601Z",
     "iopub.status.busy": "2024-06-27T17:25:03.526729Z",
     "iopub.status.idle": "2024-06-27T17:25:03.530276Z",
     "shell.execute_reply": "2024-06-27T17:25:03.530276Z",
     "shell.execute_reply.started": "2024-06-27T17:25:03.527601Z"
    }
   },
   "outputs": [],
   "source": [
    "import pandas as pd\n",
    "import numpy as np\n",
    "import matplotlib.pyplot as plt"
   ]
  },
  {
   "cell_type": "code",
   "execution_count": 2,
   "id": "e323b52a-6653-4255-a5ca-c7a23dfc96e4",
   "metadata": {
    "execution": {
     "iopub.execute_input": "2024-06-27T17:01:29.534838Z",
     "iopub.status.busy": "2024-06-27T17:01:29.534387Z",
     "iopub.status.idle": "2024-06-27T17:01:29.547344Z",
     "shell.execute_reply": "2024-06-27T17:01:29.547204Z",
     "shell.execute_reply.started": "2024-06-27T17:01:29.534838Z"
    }
   },
   "outputs": [],
   "source": [
    "%store -r h2_sha_df_eval"
   ]
  },
  {
   "cell_type": "code",
   "execution_count": 3,
   "id": "0017a638-c8d1-4dc9-9d45-4c9d783134e0",
   "metadata": {
    "execution": {
     "iopub.execute_input": "2024-06-27T17:01:29.774813Z",
     "iopub.status.busy": "2024-06-27T17:01:29.774813Z",
     "iopub.status.idle": "2024-06-27T17:01:29.784274Z",
     "shell.execute_reply": "2024-06-27T17:01:29.784274Z",
     "shell.execute_reply.started": "2024-06-27T17:01:29.774813Z"
    }
   },
   "outputs": [],
   "source": [
    "%store -r h2_shb_df_eval"
   ]
  },
  {
   "cell_type": "code",
   "execution_count": 4,
   "id": "fb92318c-7397-4953-a62e-e8077f1e8533",
   "metadata": {
    "execution": {
     "iopub.execute_input": "2024-06-27T17:01:30.816273Z",
     "iopub.status.busy": "2024-06-27T17:01:30.816273Z",
     "iopub.status.idle": "2024-06-27T17:01:30.823511Z",
     "shell.execute_reply": "2024-06-27T17:01:30.822509Z",
     "shell.execute_reply.started": "2024-06-27T17:01:30.816273Z"
    }
   },
   "outputs": [],
   "source": [
    "%store -r h2_qnrf_df_eval"
   ]
  },
  {
   "cell_type": "code",
   "execution_count": 5,
   "id": "ff29a643-81cf-4125-b5c2-13ee7e25fbcb",
   "metadata": {
    "execution": {
     "iopub.execute_input": "2024-06-27T17:01:31.798144Z",
     "iopub.status.busy": "2024-06-27T17:01:31.798144Z",
     "iopub.status.idle": "2024-06-27T17:01:31.805464Z",
     "shell.execute_reply": "2024-06-27T17:01:31.804739Z",
     "shell.execute_reply.started": "2024-06-27T17:01:31.798144Z"
    }
   },
   "outputs": [],
   "source": [
    "%store -r ia_sha_df_eval"
   ]
  },
  {
   "cell_type": "code",
   "execution_count": 6,
   "id": "f5b7734f-9edf-49c2-93b3-2a3ebd0ae51e",
   "metadata": {
    "execution": {
     "iopub.execute_input": "2024-06-27T17:01:32.743482Z",
     "iopub.status.busy": "2024-06-27T17:01:32.743482Z",
     "iopub.status.idle": "2024-06-27T17:01:32.749816Z",
     "shell.execute_reply": "2024-06-27T17:01:32.749816Z",
     "shell.execute_reply.started": "2024-06-27T17:01:32.743482Z"
    }
   },
   "outputs": [],
   "source": [
    "%store -r ia_shb_df_eval"
   ]
  },
  {
   "cell_type": "code",
   "execution_count": 7,
   "id": "add8204b-981c-4b2e-b7a9-771e10af1421",
   "metadata": {
    "execution": {
     "iopub.execute_input": "2024-06-27T17:01:33.774257Z",
     "iopub.status.busy": "2024-06-27T17:01:33.774257Z",
     "iopub.status.idle": "2024-06-27T17:01:33.780956Z",
     "shell.execute_reply": "2024-06-27T17:01:33.780956Z",
     "shell.execute_reply.started": "2024-06-27T17:01:33.774257Z"
    }
   },
   "outputs": [],
   "source": [
    "%store -r ia_qnrf_df_eval"
   ]
  },
  {
   "cell_type": "code",
   "execution_count": 33,
   "id": "7acd29e5-de1e-4094-b465-222a06a0e20b",
   "metadata": {
    "execution": {
     "iopub.execute_input": "2024-06-27T17:20:33.188210Z",
     "iopub.status.busy": "2024-06-27T17:20:33.181686Z",
     "iopub.status.idle": "2024-06-27T17:20:33.200299Z",
     "shell.execute_reply": "2024-06-27T17:20:33.199332Z",
     "shell.execute_reply.started": "2024-06-27T17:20:33.188210Z"
    }
   },
   "outputs": [
    {
     "data": {
      "text/html": [
       "<div>\n",
       "<style scoped>\n",
       "    .dataframe tbody tr th:only-of-type {\n",
       "        vertical-align: middle;\n",
       "    }\n",
       "\n",
       "    .dataframe tbody tr th {\n",
       "        vertical-align: top;\n",
       "    }\n",
       "\n",
       "    .dataframe thead th {\n",
       "        text-align: right;\n",
       "    }\n",
       "</style>\n",
       "<table border=\"1\" class=\"dataframe\">\n",
       "  <thead>\n",
       "    <tr style=\"text-align: right;\">\n",
       "      <th></th>\n",
       "      <th>Pred_Count</th>\n",
       "      <th>Pred_Count_Variance</th>\n",
       "      <th>GT Count</th>\n",
       "    </tr>\n",
       "  </thead>\n",
       "  <tbody>\n",
       "    <tr>\n",
       "      <th>079.jpg</th>\n",
       "      <td>136.683136</td>\n",
       "      <td>0.974138</td>\n",
       "      <td>2.0</td>\n",
       "    </tr>\n",
       "    <tr>\n",
       "      <th>105.jpg</th>\n",
       "      <td>229.745716</td>\n",
       "      <td>39319.718704</td>\n",
       "      <td>2.0</td>\n",
       "    </tr>\n",
       "    <tr>\n",
       "      <th>005.jpg</th>\n",
       "      <td>662.927963</td>\n",
       "      <td>90590.611168</td>\n",
       "      <td>2.0</td>\n",
       "    </tr>\n",
       "    <tr>\n",
       "      <th>152.jpg</th>\n",
       "      <td>272.286240</td>\n",
       "      <td>1848.384603</td>\n",
       "      <td>2.0</td>\n",
       "    </tr>\n",
       "    <tr>\n",
       "      <th>112.jpg</th>\n",
       "      <td>378.870880</td>\n",
       "      <td>66136.133271</td>\n",
       "      <td>2.0</td>\n",
       "    </tr>\n",
       "    <tr>\n",
       "      <th>...</th>\n",
       "      <td>...</td>\n",
       "      <td>...</td>\n",
       "      <td>...</td>\n",
       "    </tr>\n",
       "    <tr>\n",
       "      <th>116.jpg</th>\n",
       "      <td>372.758904</td>\n",
       "      <td>49263.084709</td>\n",
       "      <td>2.0</td>\n",
       "    </tr>\n",
       "    <tr>\n",
       "      <th>109.jpg</th>\n",
       "      <td>402.993866</td>\n",
       "      <td>54568.249963</td>\n",
       "      <td>2.0</td>\n",
       "    </tr>\n",
       "    <tr>\n",
       "      <th>171.jpg</th>\n",
       "      <td>269.901947</td>\n",
       "      <td>23689.641971</td>\n",
       "      <td>2.0</td>\n",
       "    </tr>\n",
       "    <tr>\n",
       "      <th>098.jpg</th>\n",
       "      <td>134.257187</td>\n",
       "      <td>634.774554</td>\n",
       "      <td>2.0</td>\n",
       "    </tr>\n",
       "    <tr>\n",
       "      <th>114.jpg</th>\n",
       "      <td>115.840247</td>\n",
       "      <td>12015.478072</td>\n",
       "      <td>2.0</td>\n",
       "    </tr>\n",
       "  </tbody>\n",
       "</table>\n",
       "<p>182 rows × 3 columns</p>\n",
       "</div>"
      ],
      "text/plain": [
       "         Pred_Count  Pred_Count_Variance  GT Count\n",
       "079.jpg  136.683136             0.974138       2.0\n",
       "105.jpg  229.745716         39319.718704       2.0\n",
       "005.jpg  662.927963         90590.611168       2.0\n",
       "152.jpg  272.286240          1848.384603       2.0\n",
       "112.jpg  378.870880         66136.133271       2.0\n",
       "...             ...                  ...       ...\n",
       "116.jpg  372.758904         49263.084709       2.0\n",
       "109.jpg  402.993866         54568.249963       2.0\n",
       "171.jpg  269.901947         23689.641971       2.0\n",
       "098.jpg  134.257187           634.774554       2.0\n",
       "114.jpg  115.840247         12015.478072       2.0\n",
       "\n",
       "[182 rows x 3 columns]"
      ]
     },
     "execution_count": 33,
     "metadata": {},
     "output_type": "execute_result"
    }
   ],
   "source": [
    "h2_sha_df_eval"
   ]
  },
  {
   "cell_type": "code",
   "execution_count": 16,
   "id": "543ae6c1-3f0c-4bdf-8482-cdab83c23ffb",
   "metadata": {
    "execution": {
     "iopub.execute_input": "2024-06-27T17:05:18.173242Z",
     "iopub.status.busy": "2024-06-27T17:05:18.167341Z",
     "iopub.status.idle": "2024-06-27T17:05:18.186794Z",
     "shell.execute_reply": "2024-06-27T17:05:18.186794Z",
     "shell.execute_reply.started": "2024-06-27T17:05:18.173242Z"
    }
   },
   "outputs": [
    {
     "data": {
      "text/html": [
       "<div>\n",
       "<style scoped>\n",
       "    .dataframe tbody tr th:only-of-type {\n",
       "        vertical-align: middle;\n",
       "    }\n",
       "\n",
       "    .dataframe tbody tr th {\n",
       "        vertical-align: top;\n",
       "    }\n",
       "\n",
       "    .dataframe thead th {\n",
       "        text-align: right;\n",
       "    }\n",
       "</style>\n",
       "<table border=\"1\" class=\"dataframe\">\n",
       "  <thead>\n",
       "    <tr style=\"text-align: right;\">\n",
       "      <th></th>\n",
       "      <th>Pred_Count</th>\n",
       "      <th>GT Count</th>\n",
       "      <th>Pred_Count</th>\n",
       "    </tr>\n",
       "  </thead>\n",
       "  <tbody>\n",
       "    <tr>\n",
       "      <th>001.jpg</th>\n",
       "      <td>198.393661</td>\n",
       "      <td>172.0</td>\n",
       "      <td>166.566116</td>\n",
       "    </tr>\n",
       "    <tr>\n",
       "      <th>002.jpg</th>\n",
       "      <td>1221.036255</td>\n",
       "      <td>1111.0</td>\n",
       "      <td>911.403076</td>\n",
       "    </tr>\n",
       "    <tr>\n",
       "      <th>003.jpg</th>\n",
       "      <td>444.299438</td>\n",
       "      <td>302.0</td>\n",
       "      <td>483.838505</td>\n",
       "    </tr>\n",
       "    <tr>\n",
       "      <th>004.jpg</th>\n",
       "      <td>160.324677</td>\n",
       "      <td>170.0</td>\n",
       "      <td>140.968231</td>\n",
       "    </tr>\n",
       "    <tr>\n",
       "      <th>005.jpg</th>\n",
       "      <td>680.858154</td>\n",
       "      <td>819.0</td>\n",
       "      <td>662.927963</td>\n",
       "    </tr>\n",
       "    <tr>\n",
       "      <th>...</th>\n",
       "      <td>...</td>\n",
       "      <td>...</td>\n",
       "      <td>...</td>\n",
       "    </tr>\n",
       "    <tr>\n",
       "      <th>178.jpg</th>\n",
       "      <td>495.706512</td>\n",
       "      <td>549.0</td>\n",
       "      <td>309.369438</td>\n",
       "    </tr>\n",
       "    <tr>\n",
       "      <th>179.jpg</th>\n",
       "      <td>399.232239</td>\n",
       "      <td>400.0</td>\n",
       "      <td>453.146959</td>\n",
       "    </tr>\n",
       "    <tr>\n",
       "      <th>180.jpg</th>\n",
       "      <td>353.631531</td>\n",
       "      <td>398.0</td>\n",
       "      <td>381.232562</td>\n",
       "    </tr>\n",
       "    <tr>\n",
       "      <th>181.jpg</th>\n",
       "      <td>211.200455</td>\n",
       "      <td>216.0</td>\n",
       "      <td>226.616226</td>\n",
       "    </tr>\n",
       "    <tr>\n",
       "      <th>182.jpg</th>\n",
       "      <td>191.725327</td>\n",
       "      <td>199.0</td>\n",
       "      <td>151.333210</td>\n",
       "    </tr>\n",
       "  </tbody>\n",
       "</table>\n",
       "<p>182 rows × 3 columns</p>\n",
       "</div>"
      ],
      "text/plain": [
       "          Pred_Count  GT Count  Pred_Count\n",
       "001.jpg   198.393661     172.0  166.566116\n",
       "002.jpg  1221.036255    1111.0  911.403076\n",
       "003.jpg   444.299438     302.0  483.838505\n",
       "004.jpg   160.324677     170.0  140.968231\n",
       "005.jpg   680.858154     819.0  662.927963\n",
       "...              ...       ...         ...\n",
       "178.jpg   495.706512     549.0  309.369438\n",
       "179.jpg   399.232239     400.0  453.146959\n",
       "180.jpg   353.631531     398.0  381.232562\n",
       "181.jpg   211.200455     216.0  226.616226\n",
       "182.jpg   191.725327     199.0  151.333210\n",
       "\n",
       "[182 rows x 3 columns]"
      ]
     },
     "execution_count": 16,
     "metadata": {},
     "output_type": "execute_result"
    }
   ],
   "source": [
    "sha_df_eval = pd.concat([ia_sha_df_eval.loc[:,('Pred_Count','GT Count')].sort_index(),h2_sha_df_eval.loc[:,'Pred_Count'].sort_index()], axis=1)\n",
    "sha_df_eval"
   ]
  },
  {
   "cell_type": "code",
   "execution_count": 22,
   "id": "b5bf60f4-d33c-4fd1-9598-0c8c617218ed",
   "metadata": {
    "execution": {
     "iopub.execute_input": "2024-06-27T17:15:11.091854Z",
     "iopub.status.busy": "2024-06-27T17:15:11.091854Z",
     "iopub.status.idle": "2024-06-27T17:15:11.104744Z",
     "shell.execute_reply": "2024-06-27T17:15:11.104008Z",
     "shell.execute_reply.started": "2024-06-27T17:15:11.091854Z"
    }
   },
   "outputs": [
    {
     "data": {
      "text/html": [
       "<div>\n",
       "<style scoped>\n",
       "    .dataframe tbody tr th:only-of-type {\n",
       "        vertical-align: middle;\n",
       "    }\n",
       "\n",
       "    .dataframe tbody tr th {\n",
       "        vertical-align: top;\n",
       "    }\n",
       "\n",
       "    .dataframe thead th {\n",
       "        text-align: right;\n",
       "    }\n",
       "</style>\n",
       "<table border=\"1\" class=\"dataframe\">\n",
       "  <thead>\n",
       "    <tr style=\"text-align: right;\">\n",
       "      <th></th>\n",
       "      <th>Pred_Count</th>\n",
       "      <th>GT Count</th>\n",
       "      <th>Pred_Count</th>\n",
       "      <th>MAE_IA</th>\n",
       "      <th>MAE_H2_S224</th>\n",
       "    </tr>\n",
       "  </thead>\n",
       "  <tbody>\n",
       "    <tr>\n",
       "      <th>001.jpg</th>\n",
       "      <td>198.393661</td>\n",
       "      <td>172.0</td>\n",
       "      <td>166.566116</td>\n",
       "      <td>26.393661</td>\n",
       "      <td>5.433884</td>\n",
       "    </tr>\n",
       "    <tr>\n",
       "      <th>002.jpg</th>\n",
       "      <td>1221.036255</td>\n",
       "      <td>1111.0</td>\n",
       "      <td>911.403076</td>\n",
       "      <td>110.036255</td>\n",
       "      <td>199.596924</td>\n",
       "    </tr>\n",
       "    <tr>\n",
       "      <th>003.jpg</th>\n",
       "      <td>444.299438</td>\n",
       "      <td>302.0</td>\n",
       "      <td>483.838505</td>\n",
       "      <td>142.299438</td>\n",
       "      <td>181.838505</td>\n",
       "    </tr>\n",
       "    <tr>\n",
       "      <th>004.jpg</th>\n",
       "      <td>160.324677</td>\n",
       "      <td>170.0</td>\n",
       "      <td>140.968231</td>\n",
       "      <td>9.675323</td>\n",
       "      <td>29.031769</td>\n",
       "    </tr>\n",
       "    <tr>\n",
       "      <th>005.jpg</th>\n",
       "      <td>680.858154</td>\n",
       "      <td>819.0</td>\n",
       "      <td>662.927963</td>\n",
       "      <td>138.141846</td>\n",
       "      <td>156.072037</td>\n",
       "    </tr>\n",
       "    <tr>\n",
       "      <th>...</th>\n",
       "      <td>...</td>\n",
       "      <td>...</td>\n",
       "      <td>...</td>\n",
       "      <td>...</td>\n",
       "      <td>...</td>\n",
       "    </tr>\n",
       "    <tr>\n",
       "      <th>178.jpg</th>\n",
       "      <td>495.706512</td>\n",
       "      <td>549.0</td>\n",
       "      <td>309.369438</td>\n",
       "      <td>53.293488</td>\n",
       "      <td>239.630562</td>\n",
       "    </tr>\n",
       "    <tr>\n",
       "      <th>179.jpg</th>\n",
       "      <td>399.232239</td>\n",
       "      <td>400.0</td>\n",
       "      <td>453.146959</td>\n",
       "      <td>0.767761</td>\n",
       "      <td>53.146959</td>\n",
       "    </tr>\n",
       "    <tr>\n",
       "      <th>180.jpg</th>\n",
       "      <td>353.631531</td>\n",
       "      <td>398.0</td>\n",
       "      <td>381.232562</td>\n",
       "      <td>44.368469</td>\n",
       "      <td>16.767438</td>\n",
       "    </tr>\n",
       "    <tr>\n",
       "      <th>181.jpg</th>\n",
       "      <td>211.200455</td>\n",
       "      <td>216.0</td>\n",
       "      <td>226.616226</td>\n",
       "      <td>4.799545</td>\n",
       "      <td>10.616226</td>\n",
       "    </tr>\n",
       "    <tr>\n",
       "      <th>182.jpg</th>\n",
       "      <td>191.725327</td>\n",
       "      <td>199.0</td>\n",
       "      <td>151.333210</td>\n",
       "      <td>7.274673</td>\n",
       "      <td>47.666790</td>\n",
       "    </tr>\n",
       "  </tbody>\n",
       "</table>\n",
       "<p>182 rows × 5 columns</p>\n",
       "</div>"
      ],
      "text/plain": [
       "          Pred_Count  GT Count  Pred_Count      MAE_IA  MAE_H2_S224\n",
       "001.jpg   198.393661     172.0  166.566116   26.393661     5.433884\n",
       "002.jpg  1221.036255    1111.0  911.403076  110.036255   199.596924\n",
       "003.jpg   444.299438     302.0  483.838505  142.299438   181.838505\n",
       "004.jpg   160.324677     170.0  140.968231    9.675323    29.031769\n",
       "005.jpg   680.858154     819.0  662.927963  138.141846   156.072037\n",
       "...              ...       ...         ...         ...          ...\n",
       "178.jpg   495.706512     549.0  309.369438   53.293488   239.630562\n",
       "179.jpg   399.232239     400.0  453.146959    0.767761    53.146959\n",
       "180.jpg   353.631531     398.0  381.232562   44.368469    16.767438\n",
       "181.jpg   211.200455     216.0  226.616226    4.799545    10.616226\n",
       "182.jpg   191.725327     199.0  151.333210    7.274673    47.666790\n",
       "\n",
       "[182 rows x 5 columns]"
      ]
     },
     "execution_count": 22,
     "metadata": {},
     "output_type": "execute_result"
    }
   ],
   "source": [
    "sha_df_eval['MAE_IA'] = np.abs(sha_df_eval.iloc[:,0]-sha_df_eval.iloc[:,1])\n",
    "sha_df_eval['MAE_H2_S224'] = np.abs(sha_df_eval.iloc[:,2]-sha_df_eval.iloc[:,1])\n",
    "sha_df_eval"
   ]
  },
  {
   "cell_type": "code",
   "execution_count": 21,
   "id": "2f5e0e05-576b-4b29-b8d1-5bbd1db82bfc",
   "metadata": {
    "execution": {
     "iopub.execute_input": "2024-06-27T17:14:41.259850Z",
     "iopub.status.busy": "2024-06-27T17:14:41.259850Z",
     "iopub.status.idle": "2024-06-27T17:14:41.277939Z",
     "shell.execute_reply": "2024-06-27T17:14:41.277939Z",
     "shell.execute_reply.started": "2024-06-27T17:14:41.259850Z"
    }
   },
   "outputs": [
    {
     "data": {
      "text/plain": [
       "53.21219083765051"
      ]
     },
     "execution_count": 21,
     "metadata": {},
     "output_type": "execute_result"
    }
   ],
   "source": [
    "np.mean(sha_df_eval['MAE_IA'])"
   ]
  },
  {
   "cell_type": "code",
   "execution_count": 23,
   "id": "99e3a989-74ad-4f6d-9cb2-d926814a4edf",
   "metadata": {
    "execution": {
     "iopub.execute_input": "2024-06-27T17:15:29.706553Z",
     "iopub.status.busy": "2024-06-27T17:15:29.706553Z",
     "iopub.status.idle": "2024-06-27T17:15:29.716974Z",
     "shell.execute_reply": "2024-06-27T17:15:29.716376Z",
     "shell.execute_reply.started": "2024-06-27T17:15:29.706553Z"
    }
   },
   "outputs": [
    {
     "data": {
      "text/plain": [
       "78.22124132964309"
      ]
     },
     "execution_count": 23,
     "metadata": {},
     "output_type": "execute_result"
    }
   ],
   "source": [
    "np.mean(sha_df_eval['MAE_H2_S224'])"
   ]
  },
  {
   "cell_type": "code",
   "execution_count": 26,
   "id": "421b8777-ea51-4ad3-82d7-b9d1fa0ebf97",
   "metadata": {
    "execution": {
     "iopub.execute_input": "2024-06-27T17:16:19.350566Z",
     "iopub.status.busy": "2024-06-27T17:16:19.349725Z",
     "iopub.status.idle": "2024-06-27T17:16:19.357722Z",
     "shell.execute_reply": "2024-06-27T17:16:19.356562Z",
     "shell.execute_reply.started": "2024-06-27T17:16:19.350566Z"
    }
   },
   "outputs": [
    {
     "data": {
      "text/plain": [
       "25.87020492553711"
      ]
     },
     "execution_count": 26,
     "metadata": {},
     "output_type": "execute_result"
    }
   ],
   "source": [
    "np.median(sha_df_eval['MAE_IA'])"
   ]
  },
  {
   "cell_type": "code",
   "execution_count": 27,
   "id": "521188ec-9cc0-42d1-acd6-faf8e46cd205",
   "metadata": {
    "execution": {
     "iopub.execute_input": "2024-06-27T17:16:32.542875Z",
     "iopub.status.busy": "2024-06-27T17:16:32.542875Z",
     "iopub.status.idle": "2024-06-27T17:16:32.552208Z",
     "shell.execute_reply": "2024-06-27T17:16:32.552208Z",
     "shell.execute_reply.started": "2024-06-27T17:16:32.542875Z"
    }
   },
   "outputs": [
    {
     "data": {
      "text/plain": [
       "46.97343826293945"
      ]
     },
     "execution_count": 27,
     "metadata": {},
     "output_type": "execute_result"
    }
   ],
   "source": [
    "np.median(sha_df_eval['MAE_H2_S224'])"
   ]
  },
  {
   "cell_type": "code",
   "execution_count": 36,
   "id": "fa5ba02c-b810-47a3-886f-d3b081ca2c2a",
   "metadata": {
    "execution": {
     "iopub.execute_input": "2024-06-27T17:23:16.806060Z",
     "iopub.status.busy": "2024-06-27T17:23:16.806060Z",
     "iopub.status.idle": "2024-06-27T17:23:16.935847Z",
     "shell.execute_reply": "2024-06-27T17:23:16.935847Z",
     "shell.execute_reply.started": "2024-06-27T17:23:16.806060Z"
    }
   },
   "outputs": [
    {
     "data": {
      "text/plain": [
       "<Axes: >"
      ]
     },
     "execution_count": 36,
     "metadata": {},
     "output_type": "execute_result"
    },
    {
     "data": {
      "image/png": "[encoded data removed]",
      "text/plain": [
       "<Figure size 640x480 with 1 Axes>"
      ]
     },
     "metadata": {},
     "output_type": "display_data"
    }
   ],
   "source": [
    "sha_df_eval['MAE_IA'].hist()"
   ]
  },
  {
   "cell_type": "code",
   "execution_count": 31,
   "id": "61d57870-38d4-4f70-95b5-d2c1cfec27b8",
   "metadata": {
    "execution": {
     "iopub.execute_input": "2024-06-27T17:19:12.791382Z",
     "iopub.status.busy": "2024-06-27T17:19:12.790339Z",
     "iopub.status.idle": "2024-06-27T17:19:13.687640Z",
     "shell.execute_reply": "2024-06-27T17:19:13.687640Z",
     "shell.execute_reply.started": "2024-06-27T17:19:12.791382Z"
    }
   },
   "outputs": [
    {
     "data": {
      "text/plain": [
       "<Axes: >"
      ]
     },
     "execution_count": 31,
     "metadata": {},
     "output_type": "execute_result"
    },
    {
     "data": {
      "image/png": "[encoded data removed]",
      "text/plain": [
       "<Figure size 640x480 with 1 Axes>"
      ]
     },
     "metadata": {},
     "output_type": "display_data"
    }
   ],
   "source": [
    "sha_df_eval['MAE_H2_S224'].hist()"
   ]
  },
  {
   "cell_type": "code",
   "execution_count": 43,
   "id": "597c4f31-dfb4-4740-b1cf-b63b050cab8f",
   "metadata": {
    "execution": {
     "iopub.execute_input": "2024-06-27T17:27:06.628878Z",
     "iopub.status.busy": "2024-06-27T17:27:06.627880Z",
     "iopub.status.idle": "2024-06-27T17:27:06.812668Z",
     "shell.execute_reply": "2024-06-27T17:27:06.812668Z",
     "shell.execute_reply.started": "2024-06-27T17:27:06.628878Z"
    }
   },
   "outputs": [
    {
     "data": {
      "text/plain": [
       "(array([88., 37., 22.,  9., 12.,  4.,  2.,  2.,  3.,  3.]),\n",
       " array([3.01731527e-01, 4.34445034e+01, 8.65872753e+01, 1.29730047e+02,\n",
       "        1.72872819e+02, 2.16015591e+02, 2.59158363e+02, 3.02301135e+02,\n",
       "        3.45443906e+02, 3.88586678e+02, 4.31729450e+02]),\n",
       " <BarContainer object of 10 artists>)"
      ]
     },
     "execution_count": 43,
     "metadata": {},
     "output_type": "execute_result"
    },
    {
     "data": {
      "image/png": "[encoded data removed]",
      "text/plain": [
       "<Figure size 640x480 with 2 Axes>"
      ]
     },
     "metadata": {},
     "output_type": "display_data"
    }
   ],
   "source": [
    "fig, axs = plt.subplots(1,2,sharey=True)\n",
    "#fig.suptitle('Vertically stacked subplots')\n",
    "axs[0].hist(sha_df_eval['MAE_IA'],color='red')\n",
    "axs[1].hist(sha_df_eval['MAE_H2_S224'])"
   ]
  },
  {
   "cell_type": "code",
   "execution_count": 10,
   "id": "16568a12-64cc-4e47-b12c-0257b8e2d568",
   "metadata": {
    "execution": {
     "iopub.execute_input": "2024-06-24T18:32:14.006943Z",
     "iopub.status.busy": "2024-06-24T18:32:14.006943Z",
     "iopub.status.idle": "2024-06-24T18:32:14.019308Z",
     "shell.execute_reply": "2024-06-24T18:32:14.018818Z",
     "shell.execute_reply.started": "2024-06-24T18:32:14.006943Z"
    }
   },
   "outputs": [],
   "source": [
    "%store -r h16_sha_df_eval"
   ]
  },
  {
   "cell_type": "code",
   "execution_count": 11,
   "id": "6fb59112-5b97-49f5-a9b5-d597cd0f63e9",
   "metadata": {
    "execution": {
     "iopub.execute_input": "2024-06-24T18:32:16.080504Z",
     "iopub.status.busy": "2024-06-24T18:32:16.080504Z",
     "iopub.status.idle": "2024-06-24T18:32:16.085547Z",
     "shell.execute_reply": "2024-06-24T18:32:16.085217Z",
     "shell.execute_reply.started": "2024-06-24T18:32:16.080504Z"
    }
   },
   "outputs": [],
   "source": [
    "%store -r h2_s16_sha_df_eval"
   ]
  },
  {
   "cell_type": "code",
   "execution_count": 17,
   "id": "db88064c-7240-4f58-b5bc-4efd6abb8ba8",
   "metadata": {
    "execution": {
     "iopub.execute_input": "2024-06-24T18:48:03.211068Z",
     "iopub.status.busy": "2024-06-24T18:48:03.211068Z",
     "iopub.status.idle": "2024-06-24T18:48:03.232491Z",
     "shell.execute_reply": "2024-06-24T18:48:03.231490Z",
     "shell.execute_reply.started": "2024-06-24T18:48:03.211068Z"
    }
   },
   "outputs": [
    {
     "data": {
      "text/html": [
       "<div>\n",
       "<style scoped>\n",
       "    .dataframe tbody tr th:only-of-type {\n",
       "        vertical-align: middle;\n",
       "    }\n",
       "\n",
       "    .dataframe tbody tr th {\n",
       "        vertical-align: top;\n",
       "    }\n",
       "\n",
       "    .dataframe thead th {\n",
       "        text-align: right;\n",
       "    }\n",
       "</style>\n",
       "<table border=\"1\" class=\"dataframe\">\n",
       "  <thead>\n",
       "    <tr style=\"text-align: right;\">\n",
       "      <th></th>\n",
       "      <th>Pred_Count</th>\n",
       "      <th>GT Count</th>\n",
       "      <th>Pred_Count</th>\n",
       "      <th>Pred_Count_Variance</th>\n",
       "      <th>GT Count</th>\n",
       "      <th>Pred_Count</th>\n",
       "      <th>Pred_Count_Variance</th>\n",
       "      <th>GT Count</th>\n",
       "      <th>Pred_Count</th>\n",
       "      <th>Pred_Count_Variance</th>\n",
       "    </tr>\n",
       "  </thead>\n",
       "  <tbody>\n",
       "    <tr>\n",
       "      <th>001.jpg</th>\n",
       "      <td>198.393661</td>\n",
       "      <td>172.0</td>\n",
       "      <td>166.566116</td>\n",
       "      <td>17862.879651</td>\n",
       "      <td>2.0</td>\n",
       "      <td>219.958427</td>\n",
       "      <td>1.525487e+04</td>\n",
       "      <td>2.0</td>\n",
       "      <td>207.708340</td>\n",
       "      <td>1.062376e+05</td>\n",
       "    </tr>\n",
       "    <tr>\n",
       "      <th>002.jpg</th>\n",
       "      <td>1221.036255</td>\n",
       "      <td>1111.0</td>\n",
       "      <td>911.403076</td>\n",
       "      <td>137457.282293</td>\n",
       "      <td>2.0</td>\n",
       "      <td>5223.833984</td>\n",
       "      <td>2.536608e+05</td>\n",
       "      <td>2.0</td>\n",
       "      <td>5140.758420</td>\n",
       "      <td>1.681617e+07</td>\n",
       "    </tr>\n",
       "    <tr>\n",
       "      <th>003.jpg</th>\n",
       "      <td>444.299438</td>\n",
       "      <td>302.0</td>\n",
       "      <td>483.838505</td>\n",
       "      <td>145887.487407</td>\n",
       "      <td>2.0</td>\n",
       "      <td>921.747375</td>\n",
       "      <td>1.309434e+05</td>\n",
       "      <td>2.0</td>\n",
       "      <td>782.623974</td>\n",
       "      <td>1.290493e+06</td>\n",
       "    </tr>\n",
       "    <tr>\n",
       "      <th>004.jpg</th>\n",
       "      <td>160.324677</td>\n",
       "      <td>170.0</td>\n",
       "      <td>140.968231</td>\n",
       "      <td>7807.629928</td>\n",
       "      <td>2.0</td>\n",
       "      <td>1769.046326</td>\n",
       "      <td>8.301609e+05</td>\n",
       "      <td>2.0</td>\n",
       "      <td>1688.451410</td>\n",
       "      <td>2.273476e+06</td>\n",
       "    </tr>\n",
       "    <tr>\n",
       "      <th>005.jpg</th>\n",
       "      <td>680.858154</td>\n",
       "      <td>819.0</td>\n",
       "      <td>662.927963</td>\n",
       "      <td>90590.611168</td>\n",
       "      <td>2.0</td>\n",
       "      <td>5912.653809</td>\n",
       "      <td>4.484685e+06</td>\n",
       "      <td>2.0</td>\n",
       "      <td>6158.633171</td>\n",
       "      <td>1.354777e+07</td>\n",
       "    </tr>\n",
       "    <tr>\n",
       "      <th>...</th>\n",
       "      <td>...</td>\n",
       "      <td>...</td>\n",
       "      <td>...</td>\n",
       "      <td>...</td>\n",
       "      <td>...</td>\n",
       "      <td>...</td>\n",
       "      <td>...</td>\n",
       "      <td>...</td>\n",
       "      <td>...</td>\n",
       "      <td>...</td>\n",
       "    </tr>\n",
       "    <tr>\n",
       "      <th>178.jpg</th>\n",
       "      <td>495.706512</td>\n",
       "      <td>549.0</td>\n",
       "      <td>309.369438</td>\n",
       "      <td>83700.420367</td>\n",
       "      <td>2.0</td>\n",
       "      <td>242.052769</td>\n",
       "      <td>5.011687e+04</td>\n",
       "      <td>2.0</td>\n",
       "      <td>353.315917</td>\n",
       "      <td>5.119215e+05</td>\n",
       "    </tr>\n",
       "    <tr>\n",
       "      <th>179.jpg</th>\n",
       "      <td>399.232239</td>\n",
       "      <td>400.0</td>\n",
       "      <td>453.146959</td>\n",
       "      <td>172725.024979</td>\n",
       "      <td>2.0</td>\n",
       "      <td>943.831367</td>\n",
       "      <td>6.299771e+05</td>\n",
       "      <td>2.0</td>\n",
       "      <td>803.818324</td>\n",
       "      <td>3.953618e+06</td>\n",
       "    </tr>\n",
       "    <tr>\n",
       "      <th>180.jpg</th>\n",
       "      <td>353.631531</td>\n",
       "      <td>398.0</td>\n",
       "      <td>381.232562</td>\n",
       "      <td>144699.521362</td>\n",
       "      <td>2.0</td>\n",
       "      <td>1615.093801</td>\n",
       "      <td>2.603053e+06</td>\n",
       "      <td>2.0</td>\n",
       "      <td>965.285664</td>\n",
       "      <td>5.965246e+06</td>\n",
       "    </tr>\n",
       "    <tr>\n",
       "      <th>181.jpg</th>\n",
       "      <td>211.200455</td>\n",
       "      <td>216.0</td>\n",
       "      <td>226.616226</td>\n",
       "      <td>3118.028507</td>\n",
       "      <td>2.0</td>\n",
       "      <td>2325.383850</td>\n",
       "      <td>5.429124e+05</td>\n",
       "      <td>2.0</td>\n",
       "      <td>2009.570815</td>\n",
       "      <td>2.105355e+06</td>\n",
       "    </tr>\n",
       "    <tr>\n",
       "      <th>182.jpg</th>\n",
       "      <td>191.725327</td>\n",
       "      <td>199.0</td>\n",
       "      <td>151.333210</td>\n",
       "      <td>3801.462588</td>\n",
       "      <td>2.0</td>\n",
       "      <td>838.030243</td>\n",
       "      <td>7.125858e+04</td>\n",
       "      <td>2.0</td>\n",
       "      <td>1046.502722</td>\n",
       "      <td>5.129878e+06</td>\n",
       "    </tr>\n",
       "  </tbody>\n",
       "</table>\n",
       "<p>182 rows × 10 columns</p>\n",
       "</div>"
      ],
      "text/plain": [
       "          Pred_Count  GT Count  Pred_Count  Pred_Count_Variance  GT Count  \\\n",
       "001.jpg   198.393661     172.0  166.566116         17862.879651       2.0   \n",
       "002.jpg  1221.036255    1111.0  911.403076        137457.282293       2.0   \n",
       "003.jpg   444.299438     302.0  483.838505        145887.487407       2.0   \n",
       "004.jpg   160.324677     170.0  140.968231          7807.629928       2.0   \n",
       "005.jpg   680.858154     819.0  662.927963         90590.611168       2.0   \n",
       "...              ...       ...         ...                  ...       ...   \n",
       "178.jpg   495.706512     549.0  309.369438         83700.420367       2.0   \n",
       "179.jpg   399.232239     400.0  453.146959        172725.024979       2.0   \n",
       "180.jpg   353.631531     398.0  381.232562        144699.521362       2.0   \n",
       "181.jpg   211.200455     216.0  226.616226          3118.028507       2.0   \n",
       "182.jpg   191.725327     199.0  151.333210          3801.462588       2.0   \n",
       "\n",
       "          Pred_Count  Pred_Count_Variance  GT Count   Pred_Count  \\\n",
       "001.jpg   219.958427         1.525487e+04       2.0   207.708340   \n",
       "002.jpg  5223.833984         2.536608e+05       2.0  5140.758420   \n",
       "003.jpg   921.747375         1.309434e+05       2.0   782.623974   \n",
       "004.jpg  1769.046326         8.301609e+05       2.0  1688.451410   \n",
       "005.jpg  5912.653809         4.484685e+06       2.0  6158.633171   \n",
       "...              ...                  ...       ...          ...   \n",
       "178.jpg   242.052769         5.011687e+04       2.0   353.315917   \n",
       "179.jpg   943.831367         6.299771e+05       2.0   803.818324   \n",
       "180.jpg  1615.093801         2.603053e+06       2.0   965.285664   \n",
       "181.jpg  2325.383850         5.429124e+05       2.0  2009.570815   \n",
       "182.jpg   838.030243         7.125858e+04       2.0  1046.502722   \n",
       "\n",
       "         Pred_Count_Variance  \n",
       "001.jpg         1.062376e+05  \n",
       "002.jpg         1.681617e+07  \n",
       "003.jpg         1.290493e+06  \n",
       "004.jpg         2.273476e+06  \n",
       "005.jpg         1.354777e+07  \n",
       "...                      ...  \n",
       "178.jpg         5.119215e+05  \n",
       "179.jpg         3.953618e+06  \n",
       "180.jpg         5.965246e+06  \n",
       "181.jpg         2.105355e+06  \n",
       "182.jpg         5.129878e+06  \n",
       "\n",
       "[182 rows x 10 columns]"
      ]
     },
     "execution_count": 17,
     "metadata": {},
     "output_type": "execute_result"
    }
   ],
   "source": [
    "sha_df_eval = pd.concat([sha_df_eval.sort_index(),h2_s16_sha_df_eval.sort_index()], axis=1)\n",
    "sha_df_eval = pd.concat([sha_df_eval.sort_index(),h16_sha_df_eval.sort_index()], axis=1)\n",
    "sha_df_eval"
   ]
  },
  {
   "cell_type": "code",
   "execution_count": 44,
   "id": "0df25484-d2a5-45c8-b1ba-b25160ecf95a",
   "metadata": {
    "execution": {
     "iopub.execute_input": "2024-06-27T17:47:15.007860Z",
     "iopub.status.busy": "2024-06-27T17:47:15.007860Z",
     "iopub.status.idle": "2024-06-27T17:47:15.025188Z",
     "shell.execute_reply": "2024-06-27T17:47:15.024179Z",
     "shell.execute_reply.started": "2024-06-27T17:47:15.007860Z"
    }
   },
   "outputs": [
    {
     "data": {
      "text/html": [
       "<div>\n",
       "<style scoped>\n",
       "    .dataframe tbody tr th:only-of-type {\n",
       "        vertical-align: middle;\n",
       "    }\n",
       "\n",
       "    .dataframe tbody tr th {\n",
       "        vertical-align: top;\n",
       "    }\n",
       "\n",
       "    .dataframe thead th {\n",
       "        text-align: right;\n",
       "    }\n",
       "</style>\n",
       "<table border=\"1\" class=\"dataframe\">\n",
       "  <thead>\n",
       "    <tr style=\"text-align: right;\">\n",
       "      <th></th>\n",
       "      <th>Pred_Count</th>\n",
       "      <th>GT Count</th>\n",
       "      <th>Pred_Count</th>\n",
       "    </tr>\n",
       "  </thead>\n",
       "  <tbody>\n",
       "    <tr>\n",
       "      <th>001.jpg</th>\n",
       "      <td>23.245689</td>\n",
       "      <td>23.0</td>\n",
       "      <td>12.758588</td>\n",
       "    </tr>\n",
       "    <tr>\n",
       "      <th>002.jpg</th>\n",
       "      <td>47.578129</td>\n",
       "      <td>52.0</td>\n",
       "      <td>49.671712</td>\n",
       "    </tr>\n",
       "    <tr>\n",
       "      <th>003.jpg</th>\n",
       "      <td>60.123386</td>\n",
       "      <td>61.0</td>\n",
       "      <td>36.875238</td>\n",
       "    </tr>\n",
       "    <tr>\n",
       "      <th>004.jpg</th>\n",
       "      <td>95.037117</td>\n",
       "      <td>95.0</td>\n",
       "      <td>122.929716</td>\n",
       "    </tr>\n",
       "    <tr>\n",
       "      <th>005.jpg</th>\n",
       "      <td>80.399307</td>\n",
       "      <td>82.0</td>\n",
       "      <td>77.964304</td>\n",
       "    </tr>\n",
       "    <tr>\n",
       "      <th>...</th>\n",
       "      <td>...</td>\n",
       "      <td>...</td>\n",
       "      <td>...</td>\n",
       "    </tr>\n",
       "    <tr>\n",
       "      <th>312.jpg</th>\n",
       "      <td>49.040329</td>\n",
       "      <td>54.0</td>\n",
       "      <td>64.522785</td>\n",
       "    </tr>\n",
       "    <tr>\n",
       "      <th>313.jpg</th>\n",
       "      <td>26.981640</td>\n",
       "      <td>29.0</td>\n",
       "      <td>27.811819</td>\n",
       "    </tr>\n",
       "    <tr>\n",
       "      <th>314.jpg</th>\n",
       "      <td>50.535126</td>\n",
       "      <td>51.0</td>\n",
       "      <td>41.153495</td>\n",
       "    </tr>\n",
       "    <tr>\n",
       "      <th>315.jpg</th>\n",
       "      <td>59.773949</td>\n",
       "      <td>54.0</td>\n",
       "      <td>73.862842</td>\n",
       "    </tr>\n",
       "    <tr>\n",
       "      <th>316.jpg</th>\n",
       "      <td>391.456848</td>\n",
       "      <td>429.0</td>\n",
       "      <td>519.764849</td>\n",
       "    </tr>\n",
       "  </tbody>\n",
       "</table>\n",
       "<p>316 rows × 3 columns</p>\n",
       "</div>"
      ],
      "text/plain": [
       "         Pred_Count  GT Count  Pred_Count\n",
       "001.jpg   23.245689      23.0   12.758588\n",
       "002.jpg   47.578129      52.0   49.671712\n",
       "003.jpg   60.123386      61.0   36.875238\n",
       "004.jpg   95.037117      95.0  122.929716\n",
       "005.jpg   80.399307      82.0   77.964304\n",
       "...             ...       ...         ...\n",
       "312.jpg   49.040329      54.0   64.522785\n",
       "313.jpg   26.981640      29.0   27.811819\n",
       "314.jpg   50.535126      51.0   41.153495\n",
       "315.jpg   59.773949      54.0   73.862842\n",
       "316.jpg  391.456848     429.0  519.764849\n",
       "\n",
       "[316 rows x 3 columns]"
      ]
     },
     "execution_count": 44,
     "metadata": {},
     "output_type": "execute_result"
    }
   ],
   "source": [
    "shb_df_eval = pd.concat([ia_shb_df_eval.loc[:,('Pred_Count','GT Count')].sort_index(),h2_shb_df_eval.loc[:,'Pred_Count'].sort_index()], axis=1)\n",
    "shb_df_eval"
   ]
  },
  {
   "cell_type": "code",
   "execution_count": 45,
   "id": "22856670-7cce-4091-914f-c20e972f88e3",
   "metadata": {
    "execution": {
     "iopub.execute_input": "2024-06-27T17:47:58.698611Z",
     "iopub.status.busy": "2024-06-27T17:47:58.698323Z",
     "iopub.status.idle": "2024-06-27T17:47:58.713221Z",
     "shell.execute_reply": "2024-06-27T17:47:58.712708Z",
     "shell.execute_reply.started": "2024-06-27T17:47:58.698611Z"
    }
   },
   "outputs": [
    {
     "data": {
      "text/html": [
       "<div>\n",
       "<style scoped>\n",
       "    .dataframe tbody tr th:only-of-type {\n",
       "        vertical-align: middle;\n",
       "    }\n",
       "\n",
       "    .dataframe tbody tr th {\n",
       "        vertical-align: top;\n",
       "    }\n",
       "\n",
       "    .dataframe thead th {\n",
       "        text-align: right;\n",
       "    }\n",
       "</style>\n",
       "<table border=\"1\" class=\"dataframe\">\n",
       "  <thead>\n",
       "    <tr style=\"text-align: right;\">\n",
       "      <th></th>\n",
       "      <th>Pred_Count</th>\n",
       "      <th>GT Count</th>\n",
       "      <th>Pred_Count</th>\n",
       "      <th>MAE_IA</th>\n",
       "      <th>MAE_H2_S224</th>\n",
       "    </tr>\n",
       "  </thead>\n",
       "  <tbody>\n",
       "    <tr>\n",
       "      <th>001.jpg</th>\n",
       "      <td>23.245689</td>\n",
       "      <td>23.0</td>\n",
       "      <td>12.758588</td>\n",
       "      <td>0.245689</td>\n",
       "      <td>10.241412</td>\n",
       "    </tr>\n",
       "    <tr>\n",
       "      <th>002.jpg</th>\n",
       "      <td>47.578129</td>\n",
       "      <td>52.0</td>\n",
       "      <td>49.671712</td>\n",
       "      <td>4.421871</td>\n",
       "      <td>2.328288</td>\n",
       "    </tr>\n",
       "    <tr>\n",
       "      <th>003.jpg</th>\n",
       "      <td>60.123386</td>\n",
       "      <td>61.0</td>\n",
       "      <td>36.875238</td>\n",
       "      <td>0.876614</td>\n",
       "      <td>24.124762</td>\n",
       "    </tr>\n",
       "    <tr>\n",
       "      <th>004.jpg</th>\n",
       "      <td>95.037117</td>\n",
       "      <td>95.0</td>\n",
       "      <td>122.929716</td>\n",
       "      <td>0.037117</td>\n",
       "      <td>27.929716</td>\n",
       "    </tr>\n",
       "    <tr>\n",
       "      <th>005.jpg</th>\n",
       "      <td>80.399307</td>\n",
       "      <td>82.0</td>\n",
       "      <td>77.964304</td>\n",
       "      <td>1.600693</td>\n",
       "      <td>4.035696</td>\n",
       "    </tr>\n",
       "    <tr>\n",
       "      <th>...</th>\n",
       "      <td>...</td>\n",
       "      <td>...</td>\n",
       "      <td>...</td>\n",
       "      <td>...</td>\n",
       "      <td>...</td>\n",
       "    </tr>\n",
       "    <tr>\n",
       "      <th>312.jpg</th>\n",
       "      <td>49.040329</td>\n",
       "      <td>54.0</td>\n",
       "      <td>64.522785</td>\n",
       "      <td>4.959671</td>\n",
       "      <td>10.522785</td>\n",
       "    </tr>\n",
       "    <tr>\n",
       "      <th>313.jpg</th>\n",
       "      <td>26.981640</td>\n",
       "      <td>29.0</td>\n",
       "      <td>27.811819</td>\n",
       "      <td>2.018360</td>\n",
       "      <td>1.188181</td>\n",
       "    </tr>\n",
       "    <tr>\n",
       "      <th>314.jpg</th>\n",
       "      <td>50.535126</td>\n",
       "      <td>51.0</td>\n",
       "      <td>41.153495</td>\n",
       "      <td>0.464874</td>\n",
       "      <td>9.846505</td>\n",
       "    </tr>\n",
       "    <tr>\n",
       "      <th>315.jpg</th>\n",
       "      <td>59.773949</td>\n",
       "      <td>54.0</td>\n",
       "      <td>73.862842</td>\n",
       "      <td>5.773949</td>\n",
       "      <td>19.862842</td>\n",
       "    </tr>\n",
       "    <tr>\n",
       "      <th>316.jpg</th>\n",
       "      <td>391.456848</td>\n",
       "      <td>429.0</td>\n",
       "      <td>519.764849</td>\n",
       "      <td>37.543152</td>\n",
       "      <td>90.764849</td>\n",
       "    </tr>\n",
       "  </tbody>\n",
       "</table>\n",
       "<p>316 rows × 5 columns</p>\n",
       "</div>"
      ],
      "text/plain": [
       "         Pred_Count  GT Count  Pred_Count     MAE_IA  MAE_H2_S224\n",
       "001.jpg   23.245689      23.0   12.758588   0.245689    10.241412\n",
       "002.jpg   47.578129      52.0   49.671712   4.421871     2.328288\n",
       "003.jpg   60.123386      61.0   36.875238   0.876614    24.124762\n",
       "004.jpg   95.037117      95.0  122.929716   0.037117    27.929716\n",
       "005.jpg   80.399307      82.0   77.964304   1.600693     4.035696\n",
       "...             ...       ...         ...        ...          ...\n",
       "312.jpg   49.040329      54.0   64.522785   4.959671    10.522785\n",
       "313.jpg   26.981640      29.0   27.811819   2.018360     1.188181\n",
       "314.jpg   50.535126      51.0   41.153495   0.464874     9.846505\n",
       "315.jpg   59.773949      54.0   73.862842   5.773949    19.862842\n",
       "316.jpg  391.456848     429.0  519.764849  37.543152    90.764849\n",
       "\n",
       "[316 rows x 5 columns]"
      ]
     },
     "execution_count": 45,
     "metadata": {},
     "output_type": "execute_result"
    }
   ],
   "source": [
    "shb_df_eval['MAE_IA'] = np.abs(shb_df_eval.iloc[:,0]-shb_df_eval.iloc[:,1])\n",
    "shb_df_eval['MAE_H2_S224'] = np.abs(shb_df_eval.iloc[:,2]-shb_df_eval.iloc[:,1])\n",
    "shb_df_eval"
   ]
  },
  {
   "cell_type": "code",
   "execution_count": 46,
   "id": "e9d2985e-8356-435f-8f82-b2aef07dfc57",
   "metadata": {
    "execution": {
     "iopub.execute_input": "2024-06-27T17:48:38.048267Z",
     "iopub.status.busy": "2024-06-27T17:48:38.048267Z",
     "iopub.status.idle": "2024-06-27T17:48:38.215169Z",
     "shell.execute_reply": "2024-06-27T17:48:38.215169Z",
     "shell.execute_reply.started": "2024-06-27T17:48:38.048267Z"
    }
   },
   "outputs": [
    {
     "data": {
      "text/plain": [
       "(array([186.,  67.,  32.,  13.,   9.,   2.,   3.,   2.,   0.,   2.]),\n",
       " array([2.51359940e-02, 2.40594779e+01, 4.80938198e+01, 7.21281617e+01,\n",
       "        9.61625036e+01, 1.20196846e+02, 1.44231187e+02, 1.68265529e+02,\n",
       "        1.92299871e+02, 2.16334213e+02, 2.40368555e+02]),\n",
       " <BarContainer object of 10 artists>)"
      ]
     },
     "execution_count": 46,
     "metadata": {},
     "output_type": "execute_result"
    },
    {
     "data": {
      "image/png": "[encoded data removed]",
      "text/plain": [
       "<Figure size 640x480 with 2 Axes>"
      ]
     },
     "metadata": {},
     "output_type": "display_data"
    }
   ],
   "source": [
    "fig, axs = plt.subplots(1,2,sharey=True)\n",
    "#fig.suptitle('Vertically stacked subplots')\n",
    "axs[0].hist(shb_df_eval['MAE_IA'],color='red')\n",
    "axs[1].hist(shb_df_eval['MAE_H2_S224'])"
   ]
  },
  {
   "cell_type": "code",
   "execution_count": 48,
   "id": "4afec4d2-d49a-4227-b9a2-32eebe6f9b42",
   "metadata": {
    "execution": {
     "iopub.execute_input": "2024-06-27T17:49:40.366430Z",
     "iopub.status.busy": "2024-06-27T17:49:40.365249Z",
     "iopub.status.idle": "2024-06-27T17:49:40.378748Z",
     "shell.execute_reply": "2024-06-27T17:49:40.377744Z",
     "shell.execute_reply.started": "2024-06-27T17:49:40.366430Z"
    }
   },
   "outputs": [
    {
     "data": {
      "text/html": [
       "<div>\n",
       "<style scoped>\n",
       "    .dataframe tbody tr th:only-of-type {\n",
       "        vertical-align: middle;\n",
       "    }\n",
       "\n",
       "    .dataframe tbody tr th {\n",
       "        vertical-align: top;\n",
       "    }\n",
       "\n",
       "    .dataframe thead th {\n",
       "        text-align: right;\n",
       "    }\n",
       "</style>\n",
       "<table border=\"1\" class=\"dataframe\">\n",
       "  <thead>\n",
       "    <tr style=\"text-align: right;\">\n",
       "      <th></th>\n",
       "      <th>Pred_Count</th>\n",
       "      <th>GT Count</th>\n",
       "      <th>Pred_Count</th>\n",
       "    </tr>\n",
       "  </thead>\n",
       "  <tbody>\n",
       "    <tr>\n",
       "      <th>001.jpg</th>\n",
       "      <td>1082.405151</td>\n",
       "      <td>977.0</td>\n",
       "      <td>918.230774</td>\n",
       "    </tr>\n",
       "    <tr>\n",
       "      <th>002.jpg</th>\n",
       "      <td>679.705566</td>\n",
       "      <td>923.0</td>\n",
       "      <td>507.227429</td>\n",
       "    </tr>\n",
       "    <tr>\n",
       "      <th>003.jpg</th>\n",
       "      <td>372.366760</td>\n",
       "      <td>350.0</td>\n",
       "      <td>464.316776</td>\n",
       "    </tr>\n",
       "    <tr>\n",
       "      <th>004.jpg</th>\n",
       "      <td>182.654877</td>\n",
       "      <td>183.0</td>\n",
       "      <td>166.993210</td>\n",
       "    </tr>\n",
       "    <tr>\n",
       "      <th>005.jpg</th>\n",
       "      <td>101.899719</td>\n",
       "      <td>103.0</td>\n",
       "      <td>93.408386</td>\n",
       "    </tr>\n",
       "    <tr>\n",
       "      <th>...</th>\n",
       "      <td>...</td>\n",
       "      <td>...</td>\n",
       "      <td>...</td>\n",
       "    </tr>\n",
       "    <tr>\n",
       "      <th>330.jpg</th>\n",
       "      <td>1648.591187</td>\n",
       "      <td>1668.0</td>\n",
       "      <td>1742.763611</td>\n",
       "    </tr>\n",
       "    <tr>\n",
       "      <th>331.jpg</th>\n",
       "      <td>2888.293945</td>\n",
       "      <td>2607.0</td>\n",
       "      <td>2744.949097</td>\n",
       "    </tr>\n",
       "    <tr>\n",
       "      <th>332.jpg</th>\n",
       "      <td>772.062683</td>\n",
       "      <td>770.0</td>\n",
       "      <td>771.469269</td>\n",
       "    </tr>\n",
       "    <tr>\n",
       "      <th>333.jpg</th>\n",
       "      <td>758.716736</td>\n",
       "      <td>601.0</td>\n",
       "      <td>753.683334</td>\n",
       "    </tr>\n",
       "    <tr>\n",
       "      <th>334.jpg</th>\n",
       "      <td>1626.426392</td>\n",
       "      <td>1508.0</td>\n",
       "      <td>1532.239868</td>\n",
       "    </tr>\n",
       "  </tbody>\n",
       "</table>\n",
       "<p>334 rows × 3 columns</p>\n",
       "</div>"
      ],
      "text/plain": [
       "          Pred_Count  GT Count   Pred_Count\n",
       "001.jpg  1082.405151     977.0   918.230774\n",
       "002.jpg   679.705566     923.0   507.227429\n",
       "003.jpg   372.366760     350.0   464.316776\n",
       "004.jpg   182.654877     183.0   166.993210\n",
       "005.jpg   101.899719     103.0    93.408386\n",
       "...              ...       ...          ...\n",
       "330.jpg  1648.591187    1668.0  1742.763611\n",
       "331.jpg  2888.293945    2607.0  2744.949097\n",
       "332.jpg   772.062683     770.0   771.469269\n",
       "333.jpg   758.716736     601.0   753.683334\n",
       "334.jpg  1626.426392    1508.0  1532.239868\n",
       "\n",
       "[334 rows x 3 columns]"
      ]
     },
     "execution_count": 48,
     "metadata": {},
     "output_type": "execute_result"
    }
   ],
   "source": [
    "qnrf_df_eval = pd.concat([ia_qnrf_df_eval.loc[:,('Pred_Count','GT Count')].sort_index(),h2_qnrf_df_eval.loc[:,'Pred_Count'].sort_index()], axis=1)\n",
    "qnrf_df_eval"
   ]
  },
  {
   "cell_type": "code",
   "execution_count": 49,
   "id": "90cddae2-cf37-4cff-bab9-c69d5828def9",
   "metadata": {
    "execution": {
     "iopub.execute_input": "2024-06-27T17:50:14.872287Z",
     "iopub.status.busy": "2024-06-27T17:50:14.872287Z",
     "iopub.status.idle": "2024-06-27T17:50:14.896708Z",
     "shell.execute_reply": "2024-06-27T17:50:14.896708Z",
     "shell.execute_reply.started": "2024-06-27T17:50:14.872287Z"
    }
   },
   "outputs": [
    {
     "data": {
      "text/html": [
       "<div>\n",
       "<style scoped>\n",
       "    .dataframe tbody tr th:only-of-type {\n",
       "        vertical-align: middle;\n",
       "    }\n",
       "\n",
       "    .dataframe tbody tr th {\n",
       "        vertical-align: top;\n",
       "    }\n",
       "\n",
       "    .dataframe thead th {\n",
       "        text-align: right;\n",
       "    }\n",
       "</style>\n",
       "<table border=\"1\" class=\"dataframe\">\n",
       "  <thead>\n",
       "    <tr style=\"text-align: right;\">\n",
       "      <th></th>\n",
       "      <th>Pred_Count</th>\n",
       "      <th>GT Count</th>\n",
       "      <th>Pred_Count</th>\n",
       "      <th>MAE_IA</th>\n",
       "      <th>MAE_H2_S224</th>\n",
       "    </tr>\n",
       "  </thead>\n",
       "  <tbody>\n",
       "    <tr>\n",
       "      <th>001.jpg</th>\n",
       "      <td>1082.405151</td>\n",
       "      <td>977.0</td>\n",
       "      <td>918.230774</td>\n",
       "      <td>105.405151</td>\n",
       "      <td>58.769226</td>\n",
       "    </tr>\n",
       "    <tr>\n",
       "      <th>002.jpg</th>\n",
       "      <td>679.705566</td>\n",
       "      <td>923.0</td>\n",
       "      <td>507.227429</td>\n",
       "      <td>243.294434</td>\n",
       "      <td>415.772571</td>\n",
       "    </tr>\n",
       "    <tr>\n",
       "      <th>003.jpg</th>\n",
       "      <td>372.366760</td>\n",
       "      <td>350.0</td>\n",
       "      <td>464.316776</td>\n",
       "      <td>22.366760</td>\n",
       "      <td>114.316776</td>\n",
       "    </tr>\n",
       "    <tr>\n",
       "      <th>004.jpg</th>\n",
       "      <td>182.654877</td>\n",
       "      <td>183.0</td>\n",
       "      <td>166.993210</td>\n",
       "      <td>0.345123</td>\n",
       "      <td>16.006790</td>\n",
       "    </tr>\n",
       "    <tr>\n",
       "      <th>005.jpg</th>\n",
       "      <td>101.899719</td>\n",
       "      <td>103.0</td>\n",
       "      <td>93.408386</td>\n",
       "      <td>1.100281</td>\n",
       "      <td>9.591614</td>\n",
       "    </tr>\n",
       "    <tr>\n",
       "      <th>...</th>\n",
       "      <td>...</td>\n",
       "      <td>...</td>\n",
       "      <td>...</td>\n",
       "      <td>...</td>\n",
       "      <td>...</td>\n",
       "    </tr>\n",
       "    <tr>\n",
       "      <th>330.jpg</th>\n",
       "      <td>1648.591187</td>\n",
       "      <td>1668.0</td>\n",
       "      <td>1742.763611</td>\n",
       "      <td>19.408813</td>\n",
       "      <td>74.763611</td>\n",
       "    </tr>\n",
       "    <tr>\n",
       "      <th>331.jpg</th>\n",
       "      <td>2888.293945</td>\n",
       "      <td>2607.0</td>\n",
       "      <td>2744.949097</td>\n",
       "      <td>281.293945</td>\n",
       "      <td>137.949097</td>\n",
       "    </tr>\n",
       "    <tr>\n",
       "      <th>332.jpg</th>\n",
       "      <td>772.062683</td>\n",
       "      <td>770.0</td>\n",
       "      <td>771.469269</td>\n",
       "      <td>2.062683</td>\n",
       "      <td>1.469269</td>\n",
       "    </tr>\n",
       "    <tr>\n",
       "      <th>333.jpg</th>\n",
       "      <td>758.716736</td>\n",
       "      <td>601.0</td>\n",
       "      <td>753.683334</td>\n",
       "      <td>157.716736</td>\n",
       "      <td>152.683334</td>\n",
       "    </tr>\n",
       "    <tr>\n",
       "      <th>334.jpg</th>\n",
       "      <td>1626.426392</td>\n",
       "      <td>1508.0</td>\n",
       "      <td>1532.239868</td>\n",
       "      <td>118.426392</td>\n",
       "      <td>24.239868</td>\n",
       "    </tr>\n",
       "  </tbody>\n",
       "</table>\n",
       "<p>334 rows × 5 columns</p>\n",
       "</div>"
      ],
      "text/plain": [
       "          Pred_Count  GT Count   Pred_Count      MAE_IA  MAE_H2_S224\n",
       "001.jpg  1082.405151     977.0   918.230774  105.405151    58.769226\n",
       "002.jpg   679.705566     923.0   507.227429  243.294434   415.772571\n",
       "003.jpg   372.366760     350.0   464.316776   22.366760   114.316776\n",
       "004.jpg   182.654877     183.0   166.993210    0.345123    16.006790\n",
       "005.jpg   101.899719     103.0    93.408386    1.100281     9.591614\n",
       "...              ...       ...          ...         ...          ...\n",
       "330.jpg  1648.591187    1668.0  1742.763611   19.408813    74.763611\n",
       "331.jpg  2888.293945    2607.0  2744.949097  281.293945   137.949097\n",
       "332.jpg   772.062683     770.0   771.469269    2.062683     1.469269\n",
       "333.jpg   758.716736     601.0   753.683334  157.716736   152.683334\n",
       "334.jpg  1626.426392    1508.0  1532.239868  118.426392    24.239868\n",
       "\n",
       "[334 rows x 5 columns]"
      ]
     },
     "execution_count": 49,
     "metadata": {},
     "output_type": "execute_result"
    }
   ],
   "source": [
    "qnrf_df_eval['MAE_IA'] = np.abs(qnrf_df_eval.iloc[:,0]-qnrf_df_eval.iloc[:,1])\n",
    "qnrf_df_eval['MAE_H2_S224'] = np.abs(qnrf_df_eval.iloc[:,2]-qnrf_df_eval.iloc[:,1])\n",
    "qnrf_df_eval"
   ]
  },
  {
   "cell_type": "code",
   "execution_count": 58,
   "id": "39997dd9-5335-4bd3-9400-778ea30cfb41",
   "metadata": {
    "execution": {
     "iopub.execute_input": "2024-06-27T17:58:12.673985Z",
     "iopub.status.busy": "2024-06-27T17:58:12.669916Z",
     "iopub.status.idle": "2024-06-27T17:58:12.912676Z",
     "shell.execute_reply": "2024-06-27T17:58:12.912041Z",
     "shell.execute_reply.started": "2024-06-27T17:58:12.673985Z"
    }
   },
   "outputs": [
    {
     "data": {
      "text/plain": [
       "(array([147.,  74.,  36.,  15.,  15.,   9.,   7.,  10.,   5.,   1.,   2.,\n",
       "          0.,   1.,   0.,   1.,   5.,   2.,   0.,   0.,   1.,   2.,   0.,\n",
       "          0.,   0.,   0.,   0.,   0.,   0.,   0.,   0.,   0.,   0.,   0.,\n",
       "          0.,   0.,   0.,   0.,   0.,   0.,   1.]),\n",
       " array([4.28466797e-02, 5.26410797e+01, 1.05239313e+02, 1.57837546e+02,\n",
       "        2.10435779e+02, 2.63034012e+02, 3.15632245e+02, 3.68230478e+02,\n",
       "        4.20828711e+02, 4.73426944e+02, 5.26025177e+02, 5.78623410e+02,\n",
       "        6.31221643e+02, 6.83819876e+02, 7.36418109e+02, 7.89016342e+02,\n",
       "        8.41614575e+02, 8.94212808e+02, 9.46811041e+02, 9.99409274e+02,\n",
       "        1.05200751e+03, 1.10460574e+03, 1.15720397e+03, 1.20980221e+03,\n",
       "        1.26240044e+03, 1.31499867e+03, 1.36759691e+03, 1.42019514e+03,\n",
       "        1.47279337e+03, 1.52539160e+03, 1.57798984e+03, 1.63058807e+03,\n",
       "        1.68318630e+03, 1.73578454e+03, 1.78838277e+03, 1.84098100e+03,\n",
       "        1.89357924e+03, 1.94617747e+03, 1.99877570e+03, 2.05137393e+03,\n",
       "        2.10397217e+03]),\n",
       " <BarContainer object of 40 artists>)"
      ]
     },
     "execution_count": 58,
     "metadata": {},
     "output_type": "execute_result"
    },
    {
     "data": {
      "image/png": "[encoded data removed]",
      "text/plain": [
       "<Figure size 640x480 with 2 Axes>"
      ]
     },
     "metadata": {},
     "output_type": "display_data"
    }
   ],
   "source": [
    "fig, axs = plt.subplots(1,2,sharey=True,sharex=True)\n",
    "#fig.suptitle('Vertically stacked subplots')\n",
    "axs[0].hist(qnrf_df_eval['MAE_IA'],color='red',bins=20)\n",
    "axs[1].hist(qnrf_df_eval['MAE_H2_S224'],bins=40)"
   ]
  },
  {
   "cell_type": "code",
   "execution_count": 52,
   "id": "a1a8ddfb-12c8-4f20-a863-e9c473359164",
   "metadata": {
    "execution": {
     "iopub.execute_input": "2024-06-27T17:51:23.791204Z",
     "iopub.status.busy": "2024-06-27T17:51:23.790208Z",
     "iopub.status.idle": "2024-06-27T17:51:23.797856Z",
     "shell.execute_reply": "2024-06-27T17:51:23.797076Z",
     "shell.execute_reply.started": "2024-06-27T17:51:23.790208Z"
    }
   },
   "outputs": [
    {
     "data": {
      "text/plain": [
       "79.95919452598709"
      ]
     },
     "execution_count": 52,
     "metadata": {},
     "output_type": "execute_result"
    }
   ],
   "source": [
    "np.mean(qnrf_df_eval['MAE_IA'])"
   ]
  },
  {
   "cell_type": "code",
   "execution_count": 51,
   "id": "58f9d902-f0f8-4678-a3d2-9911e66442bf",
   "metadata": {
    "execution": {
     "iopub.execute_input": "2024-06-27T17:51:08.722464Z",
     "iopub.status.busy": "2024-06-27T17:51:08.721471Z",
     "iopub.status.idle": "2024-06-27T17:51:08.728456Z",
     "shell.execute_reply": "2024-06-27T17:51:08.727755Z",
     "shell.execute_reply.started": "2024-06-27T17:51:08.722464Z"
    }
   },
   "outputs": [
    {
     "data": {
      "text/plain": [
       "134.45737665144915"
      ]
     },
     "execution_count": 51,
     "metadata": {},
     "output_type": "execute_result"
    }
   ],
   "source": [
    "np.mean(qnrf_df_eval['MAE_H2_S224'])"
   ]
  },
  {
   "cell_type": "code",
   "execution_count": 54,
   "id": "d7bfd998-15a1-4133-a5b1-b8b18d8ab135",
   "metadata": {
    "execution": {
     "iopub.execute_input": "2024-06-27T17:54:41.497308Z",
     "iopub.status.busy": "2024-06-27T17:54:41.497308Z",
     "iopub.status.idle": "2024-06-27T17:54:41.503987Z",
     "shell.execute_reply": "2024-06-27T17:54:41.503987Z",
     "shell.execute_reply.started": "2024-06-27T17:54:41.497308Z"
    }
   },
   "outputs": [
    {
     "data": {
      "text/plain": [
       "36.41459655761719"
      ]
     },
     "execution_count": 54,
     "metadata": {},
     "output_type": "execute_result"
    }
   ],
   "source": [
    "np.median(qnrf_df_eval['MAE_IA'])"
   ]
  },
  {
   "cell_type": "code",
   "execution_count": 55,
   "id": "837dddab-cbe9-4f26-8174-468a3dec9a7a",
   "metadata": {
    "execution": {
     "iopub.execute_input": "2024-06-27T17:54:42.314179Z",
     "iopub.status.busy": "2024-06-27T17:54:42.314179Z",
     "iopub.status.idle": "2024-06-27T17:54:42.322090Z",
     "shell.execute_reply": "2024-06-27T17:54:42.322090Z",
     "shell.execute_reply.started": "2024-06-27T17:54:42.314179Z"
    }
   },
   "outputs": [
    {
     "data": {
      "text/plain": [
       "66.67295956611633"
      ]
     },
     "execution_count": 55,
     "metadata": {},
     "output_type": "execute_result"
    }
   ],
   "source": [
    "np.median(qnrf_df_eval['MAE_H2_S224'])"
   ]
  }
 ],
 "metadata": {
  "kernelspec": {
   "display_name": "Python 3 (ipykernel)",
   "language": "python",
   "name": "python3"
  },
  "language_info": {
   "codemirror_mode": {
    "name": "ipython",
    "version": 3
   },
   "file_extension": ".py",
   "mimetype": "text/x-python",
   "name": "python",
   "nbconvert_exporter": "python",
   "pygments_lexer": "ipython3",
   "version": "3.12.3"
  }
 },
 "nbformat": 4,
 "nbformat_minor": 5
}
